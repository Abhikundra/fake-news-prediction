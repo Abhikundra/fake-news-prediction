{
 "cells": [
  {
   "cell_type": "code",
   "execution_count": 3,
   "metadata": {
    "id": "DP-5RfvXtGN0"
   },
   "outputs": [],
   "source": [
    "import pandas as pd\n",
    "import numpy as np\n",
    "import matplotlib.pyplot as plt\n",
    "import seaborn as sns\n",
    "import re\n",
    "from bs4 import BeautifulSoup\n",
    "import os\n",
    "from sklearn.model_selection import train_test_split\n",
    "from sklearn.preprocessing import normalize\n",
    "import tensorflow as tf\n",
    "from tensorflow import keras\n",
    "from tensorflow.keras.layers import Dense,Input,Activation\n",
    "from tensorflow.keras.models import Model\n",
    "import random as rn\n",
    "import tensorflow as tf\n",
    "import tensorflow.keras.backend as K\n",
    "import datetime\n",
    "from sklearn.preprocessing import OneHotEncoder\n",
    "import tensorflow_hub as hub\n",
    "import joblib\n",
    "import pickle\n",
    "from sklearn.metrics import f1_score,roc_auc_score,roc_auc_score,confusion_matrix,log_loss,roc_curve,auc\n",
    "import sklearn"
   ]
  },
  {
   "cell_type": "code",
   "execution_count": 2,
   "metadata": {
    "colab": {
     "base_uri": "https://localhost:8080/",
     "height": 35
    },
    "id": "G7UbCwfV1dEO",
    "outputId": "5716f23b-09ac-4f92-951e-5be522234c80"
   },
   "outputs": [
    {
     "data": {
      "application/vnd.google.colaboratory.intrinsic+json": {
       "type": "string"
      },
      "text/plain": [
       "'/content/drive/MyDrive/data/CS_2'"
      ]
     },
     "execution_count": 2,
     "metadata": {},
     "output_type": "execute_result"
    }
   ],
   "source": [
    "import os\n",
    "os.getcwd()\n",
    "os.chdir('/content/drive/MyDrive/data/CS_2')\n",
    "os.getcwd()"
   ]
  },
  {
   "cell_type": "markdown",
   "metadata": {
    "id": "fTDiBuSatyKa"
   },
   "source": [
    "## Final data pipeline for prediction"
   ]
  },
  {
   "cell_type": "code",
   "execution_count": 14,
   "metadata": {
    "id": "OfMI7bRDtiZJ"
   },
   "outputs": [],
   "source": [
    "def final_prediction(X):\n",
    "  \"\"\"\n",
    "  X takes file path for the csv,\n",
    "  This function takes file path and returns the prediction whether the news is fake or not\n",
    "  \"\"\"\n",
    "  # reading data\n",
    "  csv=pd.read_csv(X)\n",
    "  print('data loaded') \n",
    "  # repacing nan values with \" \"\n",
    "  csv.fillna(' ')\n",
    "  ##################################\n",
    "  csv_text=csv['text']\n",
    "  csv_title=csv['title']\n",
    "  csv_author=csv['author']\n",
    "\n",
    "  ########################    Preprocessing      ###############################\n",
    "\n",
    "  # https://gist.github.com/sebleier/554280\n",
    "  # refrence applied ai\n",
    "  # we are removing the words from the stop words list: 'no', 'nor', 'not'\n",
    "  stopwords= ['i', 'me', 'my', 'myself', 'we', 'our', 'ours', 'ourselves', 'you', \"you're\", \"you've\",\\\n",
    "              \"you'll\", \"you'd\", 'your', 'yours', 'yourself', 'yourselves', 'he', 'him', 'his', 'himself', \\\n",
    "              'she', \"she's\", 'her', 'hers', 'herself', 'it', \"it's\", 'its', 'itself', 'they', 'them', 'their',\\\n",
    "              'theirs', 'themselves', 'what', 'which', 'who', 'whom', 'this', 'that', \"that'll\", 'these', 'those', \\\n",
    "              'am', 'is', 'are', 'was', 'were', 'be', 'been', 'being', 'have', 'has', 'had', 'having', 'do', 'does', \\\n",
    "              'did', 'doing', 'a', 'an', 'the', 'and', 'but', 'if', 'or', 'because', 'as', 'until', 'while', 'of', \\\n",
    "              'at', 'by', 'for', 'with', 'about', 'against', 'between', 'into', 'through', 'during', 'before', 'after',\\\n",
    "              'above', 'below', 'to', 'from', 'up', 'down', 'in', 'out', 'on', 'off', 'over', 'under', 'again', 'further',\\\n",
    "              'then', 'once', 'here', 'there', 'when', 'where', 'why', 'how', 'all', 'any', 'both', 'each', 'few', 'more',\\\n",
    "              'most', 'other', 'some', 'such', 'only', 'own', 'same', 'so', 'than', 'too', 'very', \\\n",
    "              's', 't', 'can', 'will', 'just', 'don', \"don't\", 'should', \"should've\", 'now', 'd', 'll', 'm', 'o', 're', \\\n",
    "              've', 'y', 'ain', 'aren', \"aren't\", 'couldn', \"couldn't\", 'didn', \"didn't\", 'doesn', \"doesn't\", 'hadn',\\\n",
    "              \"hadn't\", 'hasn', \"hasn't\", 'haven', \"haven't\", 'isn', \"isn't\", 'ma', 'mightn', \"mightn't\", 'mustn',\\\n",
    "              \"mustn't\", 'needn', \"needn't\", 'shan', \"shan't\", 'shouldn', \"shouldn't\", 'wasn', \"wasn't\", 'weren', \"weren't\", \\\n",
    "              'won', \"won't\", 'wouldn', \"wouldn't\"]\n",
    "\n",
    "  def preprocessig_text(text):\n",
    "    string=str(text)\n",
    "\n",
    "    # removing url from text\n",
    "    #http://urlregex.com/\n",
    "    string=re.sub('http[s]?://(?:[a-zA-Z]|[0-9]|[$-_@.&+]|[!*\\(\\),]|(?:%[0-9a-fA-F][0-9a-fA-F]))+',' ', string)\n",
    "    #remove HTML from the Text column and save in the Text if present\n",
    "    soup = BeautifulSoup(string, 'lxml')\n",
    "    string = soup.get_text()    \n",
    "    ################################################\n",
    "    # decontracting text refrence applied ai\n",
    "    string = re.sub(r\"won't\", \"will not\", string)\n",
    "    string = re.sub(r\"can\\'t\", \"can not\", string)\n",
    "    string = re.sub(r\"n\\'t\", \" not\", string)\n",
    "    string = re.sub(r\"\\'re\", \" are\", string)\n",
    "    string = re.sub(r\"\\'s\", \" is\", string)\n",
    "    string = re.sub(r\"\\'d\", \" would\", string)\n",
    "    string = re.sub(r\"\\'ll\", \" will\", string)\n",
    "    string = re.sub(r\"\\'t\", \" not\", string)\n",
    "    string = re.sub(r\"\\'ve\", \" have\", string)\n",
    "    string = re.sub(r\"\\'m\", \" am\", string)\n",
    "    ###################################################\n",
    "\n",
    "    string=re.sub('(@\\w{1,})','',string) # removing usernames(@johndeapth)\n",
    "    string=re.sub('pic.twitter.com/.+','',string) # removing image captions\n",
    "    string=re.sub('\\d',' ',string) # removing digits\n",
    "    string=re.sub('\\n',' ', string) # repacing new line character with one space\n",
    "    string=re.sub('\\t',' ', string) # replacing tab with space\n",
    "    ##################################################################################################\n",
    "    # removing some of the spacial charcters.\n",
    "    string=re.sub('\\.',' ',string) # removing period\n",
    "    string=re.sub(',',' ', string) # removing comma\n",
    "    string=re.sub('_',' ', string) # removing underscore\n",
    "    string=re.sub('-',' ', string) # remving hyphen\n",
    "    string=re.sub('[^A-aZ-z ]',' ', string) # removing all special charcters  expect space  and \n",
    "    #if diffent language wordcome it will also take care of it.\n",
    "    string=re.sub('\\[',' ', string) # removing square brackets\n",
    "    string=re.sub('\\]',' ', string) # \n",
    "    string=re.sub(' {2,}',' ', string) # replacing two or more spaces with one space\n",
    "    string=string.strip()\n",
    "    # removing stop words from text\n",
    "    # https://gist.github.com/sebleier/554280\n",
    "    string = ' '.join(e for e in string.split() if e.lower() not in stopwords)\n",
    "    string=string.lower()\n",
    "    string = re.sub(r'\\b\\w{1,2}\\b',\" \",string) #remove words <2\n",
    "    string=re.sub(' {2,}','', string) # replacing two or more spaces with one space\n",
    "    return string   \n",
    "  \n",
    "\n",
    "  ################### getting preprocessing done #####################################\n",
    "\n",
    "  #Creating new columns for preprocessed text, title and author name.\n",
    "  from tqdm import tqdm\n",
    "  def get_preprocess(column):\n",
    "      pre_pro_text=[]\n",
    "      for i in tqdm(column):\n",
    "          pre_text=''\n",
    "          pre_text=preprocessig_text(i)\n",
    "          pre_pro_text.append(pre_text)\n",
    "      return pre_pro_text\n",
    "\n",
    "  ######################################################################################\n",
    "\n",
    "  pre_text_test=get_preprocess(csv_text)\n",
    "  pre_title_test=get_preprocess(csv_title)\n",
    "  pre_author_test=get_preprocess(csv_author)\n",
    "  Print('Preprocessing done')\n",
    "  # creating dictnory of all preprocessed list.\n",
    "  # df_dic={\"pre_text\": pre_text_test,\n",
    "  #         \"pre_title\":pre_title_test,\n",
    "  #         \"pre_author\":pre_author_test}\n",
    "\n",
    "  # # creating data frame\n",
    "  # df=pd.DataFrame(df_dict,coloums=['pre_text','pre_title','Pre_author'])\n",
    "\n",
    "  csv['pre_text']=pre_text_test\n",
    "  csv['pre_title']=pre_title_test\n",
    "  csv['pre_author']=pre_author_test\n",
    "\n",
    "  ############### Merging all data into single data ##############################\n",
    "\n",
    "  csv['merged']= csv['pre_text'] + csv['pre_title'] + csv['pre_author']\n",
    "\n",
    "  ####################### Tokenization of data ##################################\n",
    "\n",
    "  token_glove=joblib.load('Token_glove.pkl')\n",
    "  encode_text_test=token_glove.texts_to_sequences(csv['merged'])\n",
    "\n",
    "  ########################### padding of data ##################################\n",
    "\n",
    "  max_length=int(1014)  # 95 precentile of the words in X_train.\n",
    "\n",
    "  encode_text_test_paded=tf.keras.preprocessing.sequence.pad_sequences(encode_text_test, maxlen=max_length, padding='post')\n",
    "\n",
    "\n",
    "  #################################### Loading best model for prediction   #################################\n",
    "\n",
    "\n",
    "  def predict_test_thre(proba, threshould):\n",
    "    predictions = []\n",
    "    for i in proba:\n",
    "        if i>=0.5:\n",
    "            predictions.append(1)\n",
    "        else:\n",
    "            predictions.append(0)\n",
    "    return predictions\n",
    "\n",
    "  def Test_prediction(model,x_tr):\n",
    "    y_predict_tr=model.predict(x_tr)\n",
    "    pred=predict_test_thre(y_predict_tr, threshould=0.5)\n",
    "    return pred\n",
    "  print('Prediction is in process')\n",
    "  # loading model\n",
    "  lstm_cnn_model=tf.keras.models.load_model(\"best_model/CNN_b_model.h5\")\n",
    "  lstm_cnn_predictions=Test_prediction(lstm_cnn_model,encode_text_test_paded)\n",
    "  csv['Prediction']=lstm_cnn_predictions\n",
    "  sub_NN=csv[['id','Prediction']]\n",
    "   \n",
    "  pirnt('prediction done')\n",
    "\n",
    "  return sub_NN\n",
    "  \n",
    "\n",
    "  "
   ]
  },
  {
   "cell_type": "code",
   "execution_count": 15,
   "metadata": {
    "colab": {
     "base_uri": "https://localhost:8080/"
    },
    "id": "Qy_qyYk61KzE",
    "outputId": "2605a255-e6d0-4b3d-fdbe-0db2d2d45150"
   },
   "outputs": [
    {
     "name": "stderr",
     "output_type": "stream",
     "text": [
      "100%|██████████| 5200/5200 [00:15<00:00, 341.22it/s]\n",
      "100%|██████████| 5200/5200 [00:02<00:00, 2016.14it/s]\n",
      "100%|██████████| 5200/5200 [00:02<00:00, 2250.82it/s]\n"
     ]
    }
   ],
   "source": [
    "output=final_prediction('test.csv')"
   ]
  },
  {
   "cell_type": "code",
   "execution_count": 16,
   "metadata": {
    "colab": {
     "base_uri": "https://localhost:8080/",
     "height": 423
    },
    "id": "m_zmpT2L1q8F",
    "outputId": "651631fe-4d83-4193-ca3e-07f476d2a30e"
   },
   "outputs": [
    {
     "data": {
      "text/html": [
       "<div>\n",
       "<style scoped>\n",
       "    .dataframe tbody tr th:only-of-type {\n",
       "        vertical-align: middle;\n",
       "    }\n",
       "\n",
       "    .dataframe tbody tr th {\n",
       "        vertical-align: top;\n",
       "    }\n",
       "\n",
       "    .dataframe thead th {\n",
       "        text-align: right;\n",
       "    }\n",
       "</style>\n",
       "<table border=\"1\" class=\"dataframe\">\n",
       "  <thead>\n",
       "    <tr style=\"text-align: right;\">\n",
       "      <th></th>\n",
       "      <th>id</th>\n",
       "      <th>Prediction</th>\n",
       "    </tr>\n",
       "  </thead>\n",
       "  <tbody>\n",
       "    <tr>\n",
       "      <th>0</th>\n",
       "      <td>20800</td>\n",
       "      <td>0</td>\n",
       "    </tr>\n",
       "    <tr>\n",
       "      <th>1</th>\n",
       "      <td>20801</td>\n",
       "      <td>1</td>\n",
       "    </tr>\n",
       "    <tr>\n",
       "      <th>2</th>\n",
       "      <td>20802</td>\n",
       "      <td>1</td>\n",
       "    </tr>\n",
       "    <tr>\n",
       "      <th>3</th>\n",
       "      <td>20803</td>\n",
       "      <td>0</td>\n",
       "    </tr>\n",
       "    <tr>\n",
       "      <th>4</th>\n",
       "      <td>20804</td>\n",
       "      <td>1</td>\n",
       "    </tr>\n",
       "    <tr>\n",
       "      <th>...</th>\n",
       "      <td>...</td>\n",
       "      <td>...</td>\n",
       "    </tr>\n",
       "    <tr>\n",
       "      <th>5195</th>\n",
       "      <td>25995</td>\n",
       "      <td>0</td>\n",
       "    </tr>\n",
       "    <tr>\n",
       "      <th>5196</th>\n",
       "      <td>25996</td>\n",
       "      <td>0</td>\n",
       "    </tr>\n",
       "    <tr>\n",
       "      <th>5197</th>\n",
       "      <td>25997</td>\n",
       "      <td>0</td>\n",
       "    </tr>\n",
       "    <tr>\n",
       "      <th>5198</th>\n",
       "      <td>25998</td>\n",
       "      <td>1</td>\n",
       "    </tr>\n",
       "    <tr>\n",
       "      <th>5199</th>\n",
       "      <td>25999</td>\n",
       "      <td>0</td>\n",
       "    </tr>\n",
       "  </tbody>\n",
       "</table>\n",
       "<p>5200 rows × 2 columns</p>\n",
       "</div>"
      ],
      "text/plain": [
       "         id  Prediction\n",
       "0     20800           0\n",
       "1     20801           1\n",
       "2     20802           1\n",
       "3     20803           0\n",
       "4     20804           1\n",
       "...     ...         ...\n",
       "5195  25995           0\n",
       "5196  25996           0\n",
       "5197  25997           0\n",
       "5198  25998           1\n",
       "5199  25999           0\n",
       "\n",
       "[5200 rows x 2 columns]"
      ]
     },
     "execution_count": 16,
     "metadata": {},
     "output_type": "execute_result"
    }
   ],
   "source": [
    "output"
   ]
  },
  {
   "cell_type": "markdown",
   "metadata": {
    "id": "fudyQnNDmzUq"
   },
   "source": [
    "## Final data pipeline for validation"
   ]
  },
  {
   "cell_type": "code",
   "execution_count": 22,
   "metadata": {
    "id": "bL28zveBmwks"
   },
   "outputs": [],
   "source": [
    "def final_validation(X,y):\n",
    "\n",
    "  \n",
    "  \"\"\"\n",
    "  X takes data and y takes class labels\n",
    "  \"\"\"\n",
    "\n",
    "  csv=X\n",
    "  csv_text=X['text']\n",
    "  csv_title=X['title']\n",
    "  csv_author=X['author']\n",
    "\n",
    "  ########################    Preprocessing      ###############################\n",
    "\n",
    "  # https://gist.github.com/sebleier/554280\n",
    "  # refrence applied ai\n",
    "  # we are removing the words from the stop words list: 'no', 'nor', 'not'\n",
    "  stopwords= ['i', 'me', 'my', 'myself', 'we', 'our', 'ours', 'ourselves', 'you', \"you're\", \"you've\",\\\n",
    "              \"you'll\", \"you'd\", 'your', 'yours', 'yourself', 'yourselves', 'he', 'him', 'his', 'himself', \\\n",
    "              'she', \"she's\", 'her', 'hers', 'herself', 'it', \"it's\", 'its', 'itself', 'they', 'them', 'their',\\\n",
    "              'theirs', 'themselves', 'what', 'which', 'who', 'whom', 'this', 'that', \"that'll\", 'these', 'those', \\\n",
    "              'am', 'is', 'are', 'was', 'were', 'be', 'been', 'being', 'have', 'has', 'had', 'having', 'do', 'does', \\\n",
    "              'did', 'doing', 'a', 'an', 'the', 'and', 'but', 'if', 'or', 'because', 'as', 'until', 'while', 'of', \\\n",
    "              'at', 'by', 'for', 'with', 'about', 'against', 'between', 'into', 'through', 'during', 'before', 'after',\\\n",
    "              'above', 'below', 'to', 'from', 'up', 'down', 'in', 'out', 'on', 'off', 'over', 'under', 'again', 'further',\\\n",
    "              'then', 'once', 'here', 'there', 'when', 'where', 'why', 'how', 'all', 'any', 'both', 'each', 'few', 'more',\\\n",
    "              'most', 'other', 'some', 'such', 'only', 'own', 'same', 'so', 'than', 'too', 'very', \\\n",
    "              's', 't', 'can', 'will', 'just', 'don', \"don't\", 'should', \"should've\", 'now', 'd', 'll', 'm', 'o', 're', \\\n",
    "              've', 'y', 'ain', 'aren', \"aren't\", 'couldn', \"couldn't\", 'didn', \"didn't\", 'doesn', \"doesn't\", 'hadn',\\\n",
    "              \"hadn't\", 'hasn', \"hasn't\", 'haven', \"haven't\", 'isn', \"isn't\", 'ma', 'mightn', \"mightn't\", 'mustn',\\\n",
    "              \"mustn't\", 'needn', \"needn't\", 'shan', \"shan't\", 'shouldn', \"shouldn't\", 'wasn', \"wasn't\", 'weren', \"weren't\", \\\n",
    "              'won', \"won't\", 'wouldn', \"wouldn't\"]\n",
    "\n",
    "  def preprocessig_text(text):\n",
    "    string=str(text)\n",
    "\n",
    "    # removing url from text\n",
    "    #http://urlregex.com/\n",
    "    string=re.sub('http[s]?://(?:[a-zA-Z]|[0-9]|[$-_@.&+]|[!*\\(\\),]|(?:%[0-9a-fA-F][0-9a-fA-F]))+',' ', string)\n",
    "    #remove HTML from the Text column and save in the Text if present\n",
    "    soup = BeautifulSoup(string, 'lxml')\n",
    "    string = soup.get_text()    \n",
    "    ################################################\n",
    "    # decontracting text refrence applied ai\n",
    "    string = re.sub(r\"won't\", \"will not\", string)\n",
    "    string = re.sub(r\"can\\'t\", \"can not\", string)\n",
    "    string = re.sub(r\"n\\'t\", \" not\", string)\n",
    "    string = re.sub(r\"\\'re\", \" are\", string)\n",
    "    string = re.sub(r\"\\'s\", \" is\", string)\n",
    "    string = re.sub(r\"\\'d\", \" would\", string)\n",
    "    string = re.sub(r\"\\'ll\", \" will\", string)\n",
    "    string = re.sub(r\"\\'t\", \" not\", string)\n",
    "    string = re.sub(r\"\\'ve\", \" have\", string)\n",
    "    string = re.sub(r\"\\'m\", \" am\", string)\n",
    "    ###################################################\n",
    "\n",
    "    string=re.sub('(@\\w{1,})','',string) # removing usernames(@johndeapth)\n",
    "    string=re.sub('pic.twitter.com/.+','',string) # removing image captions\n",
    "    string=re.sub('\\d',' ',string) # removing digits\n",
    "    string=re.sub('\\n',' ', string) # repacing new line character with one space\n",
    "    string=re.sub('\\t',' ', string) # replacing tab with space\n",
    "    ##################################################################################################\n",
    "    # removing some of the spacial charcters.\n",
    "    string=re.sub('\\.',' ',string) # removing period\n",
    "    string=re.sub(',',' ', string) # removing comma\n",
    "    string=re.sub('_',' ', string) # removing underscore\n",
    "    string=re.sub('-',' ', string) # remving hyphen\n",
    "    string=re.sub('[^A-aZ-z ]',' ', string) # removing all special charcters  expect space  and \n",
    "    #if diffent language wordcome it will also take care of it.\n",
    "    string=re.sub('\\[',' ', string) # removing square brackets\n",
    "    string=re.sub('\\]',' ', string) # \n",
    "    string=re.sub(' {2,}',' ', string) # replacing two or more spaces with one space\n",
    "    string=string.strip()\n",
    "    # removing stop words from text\n",
    "    # https://gist.github.com/sebleier/554280\n",
    "    string = ' '.join(e for e in string.split() if e.lower() not in stopwords)\n",
    "    string=string.lower()\n",
    "    string = re.sub(r'\\b\\w{1,2}\\b',\" \",string) #remove words <2\n",
    "    string=re.sub(' {2,}','', string) # replacing two or more spaces with one space\n",
    "    return string   \n",
    "  \n",
    "\n",
    "  ################### getting preprocessing done #####################################\n",
    "\n",
    "  #Creating new columns for preprocessed text, title and author name.\n",
    "  from tqdm import tqdm\n",
    "  def get_preprocess(column):\n",
    "      pre_pro_text=[]\n",
    "      for i in tqdm(column):\n",
    "          pre_text=''\n",
    "          pre_text=preprocessig_text(i)\n",
    "          pre_pro_text.append(pre_text)\n",
    "      return pre_pro_text\n",
    "\n",
    "  ######################################################################################\n",
    "\n",
    "  pre_text_test=get_preprocess(csv_text)\n",
    "  pre_title_test=get_preprocess(csv_title)\n",
    "  pre_author_test=get_preprocess(csv_author)\n",
    "  print('Preprocessing done')\n",
    "  # creating dictnory of all preprocessed list.\n",
    "  # df_dic={\"pre_text\": pre_text_test,\n",
    "  #         \"pre_title\":pre_title_test,\n",
    "  #         \"pre_author\":pre_author_test}\n",
    "\n",
    "  # # creating data frame\n",
    "  # df=pd.DataFrame(df_dict,coloums=['pre_text','pre_title','Pre_author'])\n",
    "\n",
    "  csv['pre_text']=pre_text_test\n",
    "  csv['pre_title']=pre_title_test\n",
    "  csv['pre_author']=pre_author_test\n",
    "\n",
    "  ############### Merging all data into single data ##############################\n",
    "\n",
    "  csv['merged']= csv['pre_text'] + csv['pre_title'] + csv['pre_author']\n",
    "\n",
    "  ####################### Tokenization of data ##################################\n",
    "\n",
    "  token_glove=joblib.load('Token_glove.pkl')\n",
    "  encode_text_test=token_glove.texts_to_sequences(csv['merged'])\n",
    "\n",
    "  ########################### padding of data ##################################\n",
    "\n",
    "  max_length=int(1014)  # 95 precentile of the words in X_train.\n",
    "\n",
    "  encode_text_test_paded=tf.keras.preprocessing.sequence.pad_sequences(encode_text_test, maxlen=max_length, padding='post')\n",
    "\n",
    "\n",
    "  #################################### Loading best model for prediction   #################################\n",
    "\n",
    "\n",
    "  def predict_test_thre(proba, threshould):\n",
    "    predictions = []\n",
    "    for i in proba:\n",
    "        if i>=0.5:\n",
    "            predictions.append(1)\n",
    "        else:\n",
    "            predictions.append(0)\n",
    "    return predictions\n",
    "\n",
    "  def find_best_threshold(threshould, fpr, tpr):\n",
    "      t = threshould[np.argmax(tpr*(1-fpr))]\n",
    "      # (tpr*(1-fpr)) will be maximum if your fpr is very low and tpr is very high\n",
    "      print(\"the maximum value of tpr*(1-fpr)\", max(tpr*(1-fpr)), \"for threshold\", np.round(t,3))\n",
    "      return t\n",
    "\n",
    "  def predict_with_best_t(proba, threshould):\n",
    "      predictions = []\n",
    "      for i in proba:\n",
    "          if i>=threshould:\n",
    "              predictions.append(1)\n",
    "          else:\n",
    "              predictions.append(0)\n",
    "      return predictions\n",
    "\n",
    "\n",
    "  def Test_prediction(model,x_tr):\n",
    "    y_predict_tr=model.predict(x_tr)\n",
    "    pred=predict_test_thre(y_predict_tr, threshould=0.5)\n",
    "    return pred\n",
    "  print('Prediction is in process')\n",
    "  # loading model\n",
    "  lstm_cnn_model=tf.keras.models.load_model(\"best_model/CNN_b_model.h5\")\n",
    "  lstm_cnn_predictions=Test_prediction(lstm_cnn_model,encode_text_test_paded)\n",
    "  csv['Prediction']=lstm_cnn_predictions\n",
    "\n",
    "  fpr_tr,tpr_tr,thresold_tr=roc_curve(y,lstm_cnn_predictions)\n",
    "\n",
    "\n",
    "\n",
    "  plt.figure(1)\n",
    "  plt.figure(figsize=(7,4))\n",
    "  #     plt.subplot(3,1,1)\n",
    "\n",
    "  plt.plot(fpr_tr, tpr_tr, label=\"train AUC =\"+str(auc(fpr_tr, tpr_tr)))\n",
    "\n",
    "  plt.legend()\n",
    "  plt.xlabel(\"fpr\")\n",
    "  plt.ylabel(\"tpr\")\n",
    "  plt.title(\"ROC_CURVE\")\n",
    "  plt.grid(True)\n",
    "  plt.show()\n",
    "\n",
    "  train_best_threshold=find_best_threshold(thresold_tr,fpr_tr,tpr_tr)\n",
    "\n",
    "  prediction_tr=predict_with_best_t(lstm_cnn_predictions,train_best_threshold)\n",
    "\n",
    "\n",
    "  plt.figure(2)\n",
    "  plt.figure(figsize=(5,5))\n",
    "\n",
    "  plt.subplot(2,1,1)\n",
    "  conf_mat = pd.DataFrame(confusion_matrix(y, lstm_cnn_predictions))\n",
    "\n",
    "  sns.heatmap(conf_mat, annot = True, fmt= 'd',annot_kws={\"size\": 15}, xticklabels= ['Predicted No', 'Predicted Yes'], yticklabels= ['Actaual No','Actual Yes'])\n",
    "  plt.title('confusion matrix of test data')\n",
    "  plt.xlabel('Actual')\n",
    "  plt.ylabel('predicted')\n",
    "  plt.show()\n",
    "\n",
    "\n",
    "\n",
    "\n",
    "  print('AUC     =',auc(fpr_tr, tpr_tr))\n",
    "  print('-'*110)\n",
    "  print('logloss =',sklearn.metrics.log_loss(y,lstm_cnn_predictions))\n",
    "\n",
    "  print('-'*110)\n",
    "  print('F1     =',sklearn.metrics.f1_score(y,lstm_cnn_predictions))\n",
    "  print('-'*110)\n",
    "  print('Accuracy =',sklearn.metrics.accuracy_score(y,lstm_cnn_predictions))\n",
    "\n"
   ]
  },
  {
   "cell_type": "code",
   "execution_count": 20,
   "metadata": {
    "id": "IdGnhhY43gam"
   },
   "outputs": [],
   "source": [
    "x_test=pd.read_csv('X_cv_splitted.csv')\n",
    "y=x_test['label']"
   ]
  },
  {
   "cell_type": "code",
   "execution_count": 23,
   "metadata": {
    "colab": {
     "base_uri": "https://localhost:8080/",
     "height": 739
    },
    "id": "W-P79V7Iqeda",
    "outputId": "01f573b4-9769-4581-c0a2-68a8f9fa0795"
   },
   "outputs": [
    {
     "name": "stderr",
     "output_type": "stream",
     "text": [
      "100%|██████████| 6020/6020 [00:15<00:00, 392.28it/s]\n",
      "100%|██████████| 6020/6020 [00:02<00:00, 2324.45it/s]\n",
      "100%|██████████| 6020/6020 [00:02<00:00, 2568.40it/s]\n"
     ]
    },
    {
     "name": "stdout",
     "output_type": "stream",
     "text": [
      "Preprocessing done\n",
      "Prediction is in process\n"
     ]
    },
    {
     "data": {
      "text/plain": [
       "<Figure size 432x288 with 0 Axes>"
      ]
     },
     "metadata": {},
     "output_type": "display_data"
    },
    {
     "data": {
      "image/png": "[encoded data removed]",
      "text/plain": [
       "<Figure size 504x288 with 1 Axes>"
      ]
     },
     "metadata": {
      "needs_background": "light"
     },
     "output_type": "display_data"
    },
    {
     "name": "stdout",
     "output_type": "stream",
     "text": [
      "the maximum value of tpr*(1-fpr) 0.9502327935222673 for threshold 1\n"
     ]
    },
    {
     "data": {
      "text/plain": [
       "<Figure size 432x288 with 0 Axes>"
      ]
     },
     "metadata": {},
     "output_type": "display_data"
    },
    {
     "data": {
      "image/png": "[encoded data removed]",
      "text/plain": [
       "<Figure size 360x360 with 2 Axes>"
      ]
     },
     "metadata": {
      "needs_background": "light"
     },
     "output_type": "display_data"
    },
    {
     "name": "stdout",
     "output_type": "stream",
     "text": [
      "AUC     = 0.974804318488529\n",
      "--------------------------------------------------------------------------------------------------------------\n",
      "logloss = 0.8548733642274023\n",
      "--------------------------------------------------------------------------------------------------------------\n",
      "F1     = 0.9713516631417035\n",
      "--------------------------------------------------------------------------------------------------------------\n",
      "Accuracy = 0.975249169435216\n"
     ]
    }
   ],
   "source": [
    "final_validation(x_test,y)"
   ]
  },
  {
   "cell_type": "code",
   "execution_count": 15,
   "metadata": {
    "id": "crHLpFnlq5wg"
   },
   "outputs": [],
   "source": []
  }
 ],
 "metadata": {
  "colab": {
   "name": "Final_cs2.ipynb",
   "provenance": []
  },
  "kernelspec": {
   "display_name": "Python 3",
   "language": "python",
   "name": "python3"
  },
  "language_info": {
   "codemirror_mode": {
    "name": "ipython",
    "version": 3
   },
   "file_extension": ".py",
   "mimetype": "text/x-python",
   "name": "python",
   "nbconvert_exporter": "python",
   "pygments_lexer": "ipython3",
   "version": "3.8.3"
  }
 },
 "nbformat": 4,
 "nbformat_minor": 1
}
