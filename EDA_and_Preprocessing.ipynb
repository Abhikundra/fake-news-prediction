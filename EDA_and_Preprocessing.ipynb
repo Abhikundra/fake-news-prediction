{
  "nbformat": 4,
  "nbformat_minor": 0,
  "metadata": {
    "kernelspec": {
      "display_name": "Python 3",
      "language": "python",
      "name": "python3"
    },
    "language_info": {
      "codemirror_mode": {
        "name": "ipython",
        "version": 3
      },
      "file_extension": ".py",
      "mimetype": "text/x-python",
      "name": "python",
      "nbconvert_exporter": "python",
      "pygments_lexer": "ipython3",
      "version": "3.8.3"
    },
    "colab": {
      "name": "EDA_cs_2.ipynb",
      "provenance": []
    },
    "accelerator": "GPU"
  },
  "cells": [
    {
      "cell_type": "markdown",
      "metadata": {
        "id": "Q_2gH7E_YoR9"
      },
      "source": [
        "# EDA and Preprocessing"
      ]
    },
    {
      "cell_type": "code",
      "metadata": {
        "id": "goYs6J3FYoSJ"
      },
      "source": [
        "import pandas as pd\n",
        "import numpy as np\n",
        "import matplotlib.pyplot as plt\n",
        "import seaborn as sns\n",
        "from wordcloud import WordCloud, STOPWORDS\n",
        "import re\n",
        "from bs4 import BeautifulSoup\n",
        "import os\n",
        "from sklearn.model_selection import train_test_split\n",
        "import tensorflow as tf\n",
        "from tensorflow import keras\n",
        "from sklearn.preprocessing import normalize\n",
        "from tensorflow.keras.layers import Dense,Input,Activation\n",
        "from tensorflow.keras.models import Model\n",
        "import random as rn\n",
        "import tensorflow as tf\n",
        "import tensorflow.keras.backend as K\n",
        "import datetime\n",
        "from sklearn.preprocessing import OneHotEncoder\n",
        "import tensorflow_hub as hub"
      ],
      "execution_count": 1,
      "outputs": []
    },
    {
      "cell_type": "code",
      "metadata": {
        "id": "syTJRAmUYrc9"
      },
      "source": [
        ""
      ],
      "execution_count": null,
      "outputs": []
    },
    {
      "cell_type": "code",
      "metadata": {
        "colab": {
          "base_uri": "https://localhost:8080/"
        },
        "id": "qTT15DZsYttL",
        "outputId": "e4a3385c-544d-40a1-8042-474eb513f2ba"
      },
      "source": [
        "from google.colab import drive\n",
        "drive.mount('/content/drive')"
      ],
      "execution_count": 2,
      "outputs": [
        {
          "output_type": "stream",
          "name": "stdout",
          "text": [
            "Mounted at /content/drive\n"
          ]
        }
      ]
    },
    {
      "cell_type": "code",
      "metadata": {
        "colab": {
          "base_uri": "https://localhost:8080/",
          "height": 35
        },
        "id": "7voPWXUlY4jR",
        "outputId": "6b10858d-cb0b-43f4-a135-a27e6c262abc"
      },
      "source": [
        "os.getcwd()\n",
        "os.chdir('/content/drive/MyDrive/data/CS_2')\n",
        "os.getcwd()"
      ],
      "execution_count": 3,
      "outputs": [
        {
          "output_type": "execute_result",
          "data": {
            "application/vnd.google.colaboratory.intrinsic+json": {
              "type": "string"
            },
            "text/plain": [
              "'/content/drive/MyDrive/data/CS_2'"
            ]
          },
          "metadata": {},
          "execution_count": 3
        }
      ]
    },
    {
      "cell_type": "markdown",
      "metadata": {
        "id": "YoAoKhAOYoSO"
      },
      "source": [
        "### Loading data "
      ]
    },
    {
      "cell_type": "code",
      "metadata": {
        "id": "ciSClebqYoSQ"
      },
      "source": [
        "# reading data from CSV files\n",
        "train_csv=pd.read_csv('train.csv')\n",
        "test_csv=pd.read_csv('test.csv')\n",
        "submit_csv=pd.read_csv('submit.csv')"
      ],
      "execution_count": 4,
      "outputs": []
    },
    {
      "cell_type": "code",
      "metadata": {
        "id": "HoLTCyP5YoSS",
        "outputId": "34554e42-7671-433b-9e91-65fb1fd531b6"
      },
      "source": [
        "train_csv.info()"
      ],
      "execution_count": null,
      "outputs": [
        {
          "name": "stdout",
          "output_type": "stream",
          "text": [
            "<class 'pandas.core.frame.DataFrame'>\n",
            "RangeIndex: 20800 entries, 0 to 20799\n",
            "Data columns (total 5 columns):\n",
            " #   Column  Non-Null Count  Dtype \n",
            "---  ------  --------------  ----- \n",
            " 0   id      20800 non-null  int64 \n",
            " 1   title   20242 non-null  object\n",
            " 2   author  18843 non-null  object\n",
            " 3   text    20761 non-null  object\n",
            " 4   label   20800 non-null  int64 \n",
            "dtypes: int64(2), object(3)\n",
            "memory usage: 812.6+ KB\n"
          ]
        }
      ]
    },
    {
      "cell_type": "code",
      "metadata": {
        "id": "CK1-yjBfYoSV",
        "outputId": "c84589ec-a6d0-4d14-90a0-c75532b5e95f"
      },
      "source": [
        "train_csv.head()"
      ],
      "execution_count": null,
      "outputs": [
        {
          "data": {
            "text/html": [
              "<div>\n",
              "<style scoped>\n",
              "    .dataframe tbody tr th:only-of-type {\n",
              "        vertical-align: middle;\n",
              "    }\n",
              "\n",
              "    .dataframe tbody tr th {\n",
              "        vertical-align: top;\n",
              "    }\n",
              "\n",
              "    .dataframe thead th {\n",
              "        text-align: right;\n",
              "    }\n",
              "</style>\n",
              "<table border=\"1\" class=\"dataframe\">\n",
              "  <thead>\n",
              "    <tr style=\"text-align: right;\">\n",
              "      <th></th>\n",
              "      <th>id</th>\n",
              "      <th>title</th>\n",
              "      <th>author</th>\n",
              "      <th>text</th>\n",
              "      <th>label</th>\n",
              "    </tr>\n",
              "  </thead>\n",
              "  <tbody>\n",
              "    <tr>\n",
              "      <th>0</th>\n",
              "      <td>0</td>\n",
              "      <td>House Dem Aide: We Didn’t Even See Comey’s Let...</td>\n",
              "      <td>Darrell Lucus</td>\n",
              "      <td>House Dem Aide: We Didn’t Even See Comey’s Let...</td>\n",
              "      <td>1</td>\n",
              "    </tr>\n",
              "    <tr>\n",
              "      <th>1</th>\n",
              "      <td>1</td>\n",
              "      <td>FLYNN: Hillary Clinton, Big Woman on Campus - ...</td>\n",
              "      <td>Daniel J. Flynn</td>\n",
              "      <td>Ever get the feeling your life circles the rou...</td>\n",
              "      <td>0</td>\n",
              "    </tr>\n",
              "    <tr>\n",
              "      <th>2</th>\n",
              "      <td>2</td>\n",
              "      <td>Why the Truth Might Get You Fired</td>\n",
              "      <td>Consortiumnews.com</td>\n",
              "      <td>Why the Truth Might Get You Fired October 29, ...</td>\n",
              "      <td>1</td>\n",
              "    </tr>\n",
              "    <tr>\n",
              "      <th>3</th>\n",
              "      <td>3</td>\n",
              "      <td>15 Civilians Killed In Single US Airstrike Hav...</td>\n",
              "      <td>Jessica Purkiss</td>\n",
              "      <td>Videos 15 Civilians Killed In Single US Airstr...</td>\n",
              "      <td>1</td>\n",
              "    </tr>\n",
              "    <tr>\n",
              "      <th>4</th>\n",
              "      <td>4</td>\n",
              "      <td>Iranian woman jailed for fictional unpublished...</td>\n",
              "      <td>Howard Portnoy</td>\n",
              "      <td>Print \\nAn Iranian woman has been sentenced to...</td>\n",
              "      <td>1</td>\n",
              "    </tr>\n",
              "  </tbody>\n",
              "</table>\n",
              "</div>"
            ],
            "text/plain": [
              "   id                                              title              author  \\\n",
              "0   0  House Dem Aide: We Didn’t Even See Comey’s Let...       Darrell Lucus   \n",
              "1   1  FLYNN: Hillary Clinton, Big Woman on Campus - ...     Daniel J. Flynn   \n",
              "2   2                  Why the Truth Might Get You Fired  Consortiumnews.com   \n",
              "3   3  15 Civilians Killed In Single US Airstrike Hav...     Jessica Purkiss   \n",
              "4   4  Iranian woman jailed for fictional unpublished...      Howard Portnoy   \n",
              "\n",
              "                                                text  label  \n",
              "0  House Dem Aide: We Didn’t Even See Comey’s Let...      1  \n",
              "1  Ever get the feeling your life circles the rou...      0  \n",
              "2  Why the Truth Might Get You Fired October 29, ...      1  \n",
              "3  Videos 15 Civilians Killed In Single US Airstr...      1  \n",
              "4  Print \\nAn Iranian woman has been sentenced to...      1  "
            ]
          },
          "execution_count": 10,
          "metadata": {},
          "output_type": "execute_result"
        }
      ]
    },
    {
      "cell_type": "markdown",
      "metadata": {
        "id": "wm_mlCO7YoSW"
      },
      "source": [
        "#### unreliable news = 1\n",
        "#### reliable news     = 0"
      ]
    },
    {
      "cell_type": "code",
      "metadata": {
        "id": "E9a5NxSUYoSY",
        "outputId": "a0deb15b-5270-4483-a7cc-d4cf0d0545a9"
      },
      "source": [
        "# checking the shape of trian and test csv.\n",
        "print('Train CSV shape :--', train_csv.shape)\n",
        "print('Test CSV shape  :--', test_csv.shape)"
      ],
      "execution_count": null,
      "outputs": [
        {
          "name": "stdout",
          "output_type": "stream",
          "text": [
            "Train CSV shape :-- (20800, 5)\n",
            "Test CSV shape  :-- (5200, 4)\n"
          ]
        }
      ]
    },
    {
      "cell_type": "code",
      "metadata": {
        "id": "EnRgpl9cYoSa",
        "outputId": "9561cd72-2db7-479a-f77c-427b480723c1"
      },
      "source": [
        "# checing for NaN values\n",
        "train_csv.isna().any()"
      ],
      "execution_count": null,
      "outputs": [
        {
          "data": {
            "text/plain": [
              "id        False\n",
              "title      True\n",
              "author     True\n",
              "text       True\n",
              "label     False\n",
              "dtype: bool"
            ]
          },
          "execution_count": 14,
          "metadata": {},
          "output_type": "execute_result"
        }
      ]
    },
    {
      "cell_type": "code",
      "metadata": {
        "colab": {
          "base_uri": "https://localhost:8080/"
        },
        "id": "QbqJmfxyYoSd",
        "outputId": "3a824c33-4c52-40aa-be53-41e02b117323"
      },
      "source": [
        "# checking for duplicate values wtih respect to id\n",
        "## we are not checking duplicate in author column becase a author can write multiple Articles\n",
        "print('Duplicate entry Id column =',train_csv.duplicated(subset = 'id').any())\n",
        "print('Duplicate entry title column =',train_csv.duplicated(subset = 'title').any())\n",
        "print('Duplicate entry text column =',train_csv.duplicated(subset = 'text').any())\n"
      ],
      "execution_count": 5,
      "outputs": [
        {
          "output_type": "stream",
          "name": "stdout",
          "text": [
            "Duplicate entry Id column = False\n",
            "Duplicate entry title column = True\n",
            "Duplicate entry text column = True\n"
          ]
        }
      ]
    },
    {
      "cell_type": "markdown",
      "metadata": {
        "id": "55awrCG9YoSf"
      },
      "source": [
        "### Observations\n",
        "1. Train_csv has 5 columns and 20800 rows.\n",
        "2. Test_csv has 4 columns and 5200 rows.\n",
        "3. There are some Nan values present in our train data.\n",
        "4. There are some duplicate values in tilte and text columns of the data.\n"
      ]
    },
    {
      "cell_type": "code",
      "metadata": {
        "colab": {
          "base_uri": "https://localhost:8080/"
        },
        "id": "649f0knrYoSh",
        "outputId": "3f239f5f-a2db-4f50-d45b-b05b7ae28107"
      },
      "source": [
        "# droping duplicated values and NaN values\n",
        "# reomiving duplicate valeus from train data\n",
        "train_csv.drop_duplicates(subset=['title','text'], inplace=True)\n",
        "# droping duplicates from test data.\n",
        "test_csv.drop_duplicates(subset=['title','text'], inplace=True)\n",
        "\n",
        "# droping Nan Values form train and test data.\n",
        "train_csv.dropna(axis=0,inplace=True)\n",
        "test_csv.dropna(axis=0,inplace=True)\n",
        " \n",
        "print('Train CSV shape :--', train_csv.shape)\n",
        "print('Test CSV shape  :--', test_csv.shape)"
      ],
      "execution_count": 6,
      "outputs": [
        {
          "output_type": "stream",
          "name": "stdout",
          "text": [
            "Train CSV shape :-- (18240, 5)\n",
            "Test CSV shape  :-- (4573, 4)\n"
          ]
        }
      ]
    },
    {
      "cell_type": "markdown",
      "metadata": {
        "id": "iRBzooj_YoSj"
      },
      "source": [
        "### Observations\n",
        "1. There are total 2542 rows have duplicate values or NaN entry"
      ]
    },
    {
      "cell_type": "markdown",
      "metadata": {
        "id": "VrgXtr5BYoSk"
      },
      "source": [
        "### Distribution of Class lables"
      ]
    },
    {
      "cell_type": "code",
      "metadata": {
        "colab": {
          "base_uri": "https://localhost:8080/",
          "height": 450
        },
        "id": "L0xYy_goYoSl",
        "outputId": "1e02a5ef-da60-46e0-a79d-fa1bb30e23b7"
      },
      "source": [
        "plt.figure(figsize=(7,6)) # hight and width of plot \n",
        "sns.set_style('whitegrid') # backgroud of plot \n",
        "sns.countplot(data=train_csv,x='label') # conting unique values  \n",
        "plt.xticks(size = 12) # size of x axis indicators(yes/no)\n",
        "plt.yticks(size = 12) \n",
        "plt.title('Distribution of  Class Labels', fontsize=20)\n",
        "plt.xlabel('reliable or unreliable', size = 14)\n",
        "plt.ylabel('Count', size = 14)\n",
        "count=train_csv['label'].value_counts()\n",
        "no=np.round((count[0]/(count[0]+count[1]))*100,4)\n",
        "yes=np.round((count[1]/(count[0]+count[1]))*100,4)\n",
        "print('percentage of unreliable  articles ', yes)\n",
        "print('percentage of reliable articles ', no)\n",
        "plt.show()"
      ],
      "execution_count": 7,
      "outputs": [
        {
          "output_type": "stream",
          "name": "stdout",
          "text": [
            "percentage of unreliable  articles  43.1963\n",
            "percentage of reliable articles  56.8037\n"
          ]
        },
        {
          "output_type": "display_data",
          "data": {
            "image/png": "[encoded data removed]",
            "text/plain": [
              "<Figure size 504x432 with 1 Axes>"
            ]
          },
          "metadata": {
            "needs_background": "light"
          }
        }
      ]
    },
    {
      "cell_type": "markdown",
      "metadata": {
        "id": "NSFtwTVWYoSm"
      },
      "source": [
        "### Observations\n",
        "1. train dataset is allmost balanced dataset.\n",
        "2. There is 43% of data which is unreliable to read.\n"
      ]
    },
    {
      "cell_type": "code",
      "metadata": {
        "id": "mahxoR71YoSn"
      },
      "source": [
        "# breaking thet trian data into reliable data and unreliable data for futher analysis.\n",
        "#https://towardsdatascience.com/loc-vs-iloc-in-pandas-92fc125ed8eb#:~:text=loc%20vs%20iloc%20in%20Pandas%201%20Introduction.%20...,retrieve%20the%20requested%20rows.%204%20Final%20Thoughts.%20\n",
        "reliable_data=train_csv.loc[train_csv['label']==int(0)]\n",
        "unreliable_data=train_csv.loc[train_csv['label']==int(1)]"
      ],
      "execution_count": null,
      "outputs": []
    },
    {
      "cell_type": "code",
      "metadata": {
        "id": "845OKsYFYoSp"
      },
      "source": [
        ""
      ],
      "execution_count": null,
      "outputs": []
    },
    {
      "cell_type": "markdown",
      "metadata": {
        "id": "mlN3_5o9YoSp"
      },
      "source": [
        "### Top 20 Author who wrote frequently unreliable news articles"
      ]
    },
    {
      "cell_type": "code",
      "metadata": {
        "id": "BHCL6P-kYoSq",
        "outputId": "e977334b-0df3-4555-eb2d-875fe590f983"
      },
      "source": [
        "plt.figure(figsize=(10,7)) # hight and width of plot \n",
        "sns.set_style('whitegrid') # backgroud of plot \n",
        "sns.countplot(data=unreliable_data,y='author',order=unreliable_data['author'].value_counts()[:20].index) # name of the category(index)  \n",
        "plt.xticks(size = 10) # size of x axis indicators(yes/no)\n",
        "plt.yticks(size = 12) \n",
        "plt.title('Top 20 Author who wrote frequently unreliable news articles', fontsize=20)\n",
        "plt.xlabel('Count', size = 14)\n",
        "plt.ylabel('Author', size = 14)\n",
        "plt.show()"
      ],
      "execution_count": null,
      "outputs": [
        {
          "data": {
            "image/png": "[encoded data removed]",
            "text/plain": [
              "<Figure size 720x504 with 1 Axes>"
            ]
          },
          "metadata": {},
          "output_type": "display_data"
        }
      ]
    },
    {
      "cell_type": "markdown",
      "metadata": {
        "id": "1gs54QkMYoSr"
      },
      "source": [
        "#### Observations\n",
        "1. admin named author had wrote maximum number of fake news articles i.e above 175.\n",
        "2. other author wrote less then 100 fake news articles "
      ]
    },
    {
      "cell_type": "markdown",
      "metadata": {
        "id": "UYvpfycIYoSr"
      },
      "source": [
        "### Top 20 Author who wrote frequemntly reliable news articles"
      ]
    },
    {
      "cell_type": "code",
      "metadata": {
        "id": "F_B88JRBYoSs",
        "outputId": "619deb35-f1f4-4a06-f441-bcb16e2334ff"
      },
      "source": [
        "plt.figure(figsize=(10,7)) # hight and width of plot \n",
        "sns.set_style('whitegrid') # backgroud of plot \n",
        "sns.countplot(data=reliable_data,y='author',order=reliable_data['author'].value_counts()[:20].index) # name of the category(index)  \n",
        "plt.xticks(size = 10) # size of x axis indicators(yes/no)\n",
        "plt.yticks(size = 12) \n",
        "plt.title('Top 20 Author who wrote frequently reliable news articles', fontsize=20)\n",
        "plt.xlabel('Count', size = 14)\n",
        "plt.ylabel('Author', size = 14)\n",
        "plt.show()"
      ],
      "execution_count": null,
      "outputs": [
        {
          "data": {
            "image/png": "[encoded data removed]",
            "text/plain": [
              "<Figure size 720x504 with 1 Axes>"
            ]
          },
          "metadata": {},
          "output_type": "display_data"
        }
      ]
    },
    {
      "cell_type": "markdown",
      "metadata": {
        "id": "4hFWqSD-YoSt"
      },
      "source": [
        "#### Observations\n",
        "1. most trusted author is pam key who wrote maximum number of  reliable articles.\n",
        "2. jerome hudsom worte above 150 reliable articles."
      ]
    },
    {
      "cell_type": "code",
      "metadata": {
        "id": "QkcaEyNbYoSu",
        "outputId": "9d8161f1-eef9-440b-a8b4-9e1cddecd31c"
      },
      "source": [
        "# changing data type of text and title to sting\n",
        "train_csv['text']=train_csv['text'].astype(str)\n",
        "train_csv['title']=train_csv['title'].astype(str)\n",
        "reliable_data['title']=reliable_data['title'].astype(str)\n",
        "unreliable_data['title']=unreliable_data['title'].astype(str)\n",
        "reliable_data['text']=reliable_data['text'].astype(str)\n",
        "unreliable_data['text']=unreliable_data['text'].astype(str)"
      ],
      "execution_count": null,
      "outputs": [
        {
          "name": "stderr",
          "output_type": "stream",
          "text": [
            "<ipython-input-18-8363dccd251d>:4: SettingWithCopyWarning: \n",
            "A value is trying to be set on a copy of a slice from a DataFrame.\n",
            "Try using .loc[row_indexer,col_indexer] = value instead\n",
            "\n",
            "See the caveats in the documentation: https://pandas.pydata.org/pandas-docs/stable/user_guide/indexing.html#returning-a-view-versus-a-copy\n",
            "  reliable_data['title']=reliable_data['title'].astype(str)\n",
            "<ipython-input-18-8363dccd251d>:5: SettingWithCopyWarning: \n",
            "A value is trying to be set on a copy of a slice from a DataFrame.\n",
            "Try using .loc[row_indexer,col_indexer] = value instead\n",
            "\n",
            "See the caveats in the documentation: https://pandas.pydata.org/pandas-docs/stable/user_guide/indexing.html#returning-a-view-versus-a-copy\n",
            "  unreliable_data['title']=unreliable_data['title'].astype(str)\n",
            "<ipython-input-18-8363dccd251d>:6: SettingWithCopyWarning: \n",
            "A value is trying to be set on a copy of a slice from a DataFrame.\n",
            "Try using .loc[row_indexer,col_indexer] = value instead\n",
            "\n",
            "See the caveats in the documentation: https://pandas.pydata.org/pandas-docs/stable/user_guide/indexing.html#returning-a-view-versus-a-copy\n",
            "  reliable_data['text']=reliable_data['text'].astype(str)\n",
            "<ipython-input-18-8363dccd251d>:7: SettingWithCopyWarning: \n",
            "A value is trying to be set on a copy of a slice from a DataFrame.\n",
            "Try using .loc[row_indexer,col_indexer] = value instead\n",
            "\n",
            "See the caveats in the documentation: https://pandas.pydata.org/pandas-docs/stable/user_guide/indexing.html#returning-a-view-versus-a-copy\n",
            "  unreliable_data['text']=unreliable_data['text'].astype(str)\n"
          ]
        }
      ]
    },
    {
      "cell_type": "code",
      "metadata": {
        "id": "g-hX9r_jYoSv",
        "outputId": "97f81d1d-f65a-4eb9-ed4f-b317665ccce9"
      },
      "source": [
        "## calculating length of text in the article\n",
        "train_csv['text_length']=train_csv['text'].apply(lambda x : len(x.split()))\n",
        "train_csv['title_length']=train_csv['title'].apply(lambda x : len(x.split()))\n",
        "reliable_data['title_length']=reliable_data['title'].apply(lambda x : len(x.split()))\n",
        "unreliable_data['title_length']=unreliable_data['title'].apply(lambda x : len(x.split()))\n",
        "reliable_data['text_length']=reliable_data['text'].apply(lambda x : len(x.split()))\n",
        "unreliable_data['text_length']=unreliable_data['text'].apply(lambda x : len(x.split()))"
      ],
      "execution_count": null,
      "outputs": [
        {
          "name": "stderr",
          "output_type": "stream",
          "text": [
            "<ipython-input-149-44ff99278063>:4: SettingWithCopyWarning: \n",
            "A value is trying to be set on a copy of a slice from a DataFrame.\n",
            "Try using .loc[row_indexer,col_indexer] = value instead\n",
            "\n",
            "See the caveats in the documentation: https://pandas.pydata.org/pandas-docs/stable/user_guide/indexing.html#returning-a-view-versus-a-copy\n",
            "  reliable_data['title_length']=reliable_data['title'].apply(lambda x : len(x.split()))\n",
            "<ipython-input-149-44ff99278063>:5: SettingWithCopyWarning: \n",
            "A value is trying to be set on a copy of a slice from a DataFrame.\n",
            "Try using .loc[row_indexer,col_indexer] = value instead\n",
            "\n",
            "See the caveats in the documentation: https://pandas.pydata.org/pandas-docs/stable/user_guide/indexing.html#returning-a-view-versus-a-copy\n",
            "  unreliable_data['title_length']=unreliable_data['title'].apply(lambda x : len(x.split()))\n",
            "<ipython-input-149-44ff99278063>:6: SettingWithCopyWarning: \n",
            "A value is trying to be set on a copy of a slice from a DataFrame.\n",
            "Try using .loc[row_indexer,col_indexer] = value instead\n",
            "\n",
            "See the caveats in the documentation: https://pandas.pydata.org/pandas-docs/stable/user_guide/indexing.html#returning-a-view-versus-a-copy\n",
            "  reliable_data['text_length']=reliable_data['text'].apply(lambda x : len(x.split()))\n",
            "<ipython-input-149-44ff99278063>:7: SettingWithCopyWarning: \n",
            "A value is trying to be set on a copy of a slice from a DataFrame.\n",
            "Try using .loc[row_indexer,col_indexer] = value instead\n",
            "\n",
            "See the caveats in the documentation: https://pandas.pydata.org/pandas-docs/stable/user_guide/indexing.html#returning-a-view-versus-a-copy\n",
            "  unreliable_data['text_length']=unreliable_data['text'].apply(lambda x : len(x.split()))\n"
          ]
        }
      ]
    },
    {
      "cell_type": "markdown",
      "metadata": {
        "id": "LeEM22ktYoSw"
      },
      "source": [
        "### Distribution of Test length"
      ]
    },
    {
      "cell_type": "code",
      "metadata": {
        "id": "xs6Xb-_GYoSx",
        "outputId": "9572c233-e3da-4043-d6bf-c5eb7d95f9fd"
      },
      "source": [
        "plt.figure(figsize=(10,6)) # hight and width of plot \n",
        "sns.set_style('whitegrid') # backgroud of plot \n",
        "sns.FacetGrid(train_csv, hue=\"label\",height=10) \\\n",
        "   .map(sns.distplot, \"text_length\").add_legend()# conting unique values  \n",
        "plt.xticks(size = 12) # size of x axis indicators(yes/no)\n",
        "plt.yticks(size = 12) \n",
        "plt.title('Distribution of Text length', fontsize=20)\n",
        "plt.xlabel('text length', size = 14)\n",
        "plt.ylabel('denisty', size = 14)\n",
        "plt.legend()\n",
        "plt.show()"
      ],
      "execution_count": null,
      "outputs": [
        {
          "name": "stderr",
          "output_type": "stream",
          "text": [
            "C:\\Users\\Nimble\\anaconda3\\lib\\site-packages\\seaborn\\distributions.py:2551: FutureWarning: `distplot` is a deprecated function and will be removed in a future version. Please adapt your code to use either `displot` (a figure-level function with similar flexibility) or `histplot` (an axes-level function for histograms).\n",
            "  warnings.warn(msg, FutureWarning)\n",
            "C:\\Users\\Nimble\\anaconda3\\lib\\site-packages\\seaborn\\distributions.py:2551: FutureWarning: `distplot` is a deprecated function and will be removed in a future version. Please adapt your code to use either `displot` (a figure-level function with similar flexibility) or `histplot` (an axes-level function for histograms).\n",
            "  warnings.warn(msg, FutureWarning)\n"
          ]
        },
        {
          "data": {
            "text/plain": [
              "<Figure size 720x432 with 0 Axes>"
            ]
          },
          "metadata": {},
          "output_type": "display_data"
        },
        {
          "data": {
            "image/png": "[encoded data removed]",
            "text/plain": [
              "<Figure size 761.625x720 with 1 Axes>"
            ]
          },
          "metadata": {},
          "output_type": "display_data"
        }
      ]
    },
    {
      "cell_type": "code",
      "metadata": {
        "id": "w24-YXQ4YoSx",
        "outputId": "fc766377-0963-4356-9884-07b3a197bda5"
      },
      "source": [
        "plt.figure(figsize=(16,6)) # hight and width of plot \n",
        "sns.set_style('whitegrid') # backgroud of plot \n",
        "sns.distplot(reliable_data['text_length'])  \n",
        "plt.xticks(size = 12) # size of x axis indicators(yes/no)\n",
        "plt.yticks(size = 12) \n",
        "plt.title('Distribution of reliable text', fontsize=20)\n",
        "plt.xlabel('text length', size = 14)\n",
        "plt.ylabel('Density', size = 14)\n",
        "plt.show()"
      ],
      "execution_count": null,
      "outputs": [
        {
          "name": "stderr",
          "output_type": "stream",
          "text": [
            "C:\\Users\\Nimble\\anaconda3\\lib\\site-packages\\seaborn\\distributions.py:2551: FutureWarning: `distplot` is a deprecated function and will be removed in a future version. Please adapt your code to use either `displot` (a figure-level function with similar flexibility) or `histplot` (an axes-level function for histograms).\n",
            "  warnings.warn(msg, FutureWarning)\n"
          ]
        },
        {
          "data": {
            "image/png": "[encoded data removed]",
            "text/plain": [
              "<Figure size 1152x432 with 1 Axes>"
            ]
          },
          "metadata": {},
          "output_type": "display_data"
        }
      ]
    },
    {
      "cell_type": "markdown",
      "metadata": {
        "id": "JjFOvFrnYoSz"
      },
      "source": [
        "#### Observations\n",
        "1. Unreliable text data flows gaussian distribution with some skewness\n",
        "2. Most of the unreliable text have very few lengths, maximum length of the text which belongs to unrelaibe is 25000 words.\n",
        "3. Most of reliable text length occure in 0 to 2000 words.\n",
        "4. Maximun length of words for reliable newes is 14000.\n",
        "5. variance is less for unreliable distribution plot but has right skewness."
      ]
    },
    {
      "cell_type": "markdown",
      "metadata": {
        "id": "RKiUeaw1YoSz"
      },
      "source": [
        "### Distribution of Title length"
      ]
    },
    {
      "cell_type": "code",
      "metadata": {
        "id": "Of26LT4pYoS0",
        "outputId": "6e76973e-43b2-43a2-a1be-94c29b5af393"
      },
      "source": [
        "plt.figure(figsize=(10,6)) # hight and width of plot \n",
        "sns.set_style('whitegrid') # backgroud of plot \n",
        "sns.FacetGrid(train_csv, hue=\"label\",height=10) \\\n",
        "   .map(sns.distplot, \"title_length\").add_legend()# conting unique values  \n",
        "plt.xticks(size = 12) # size of x axis indicators(yes/no)\n",
        "plt.yticks(size = 12) \n",
        "plt.title('Distribution of Title length', fontsize=20)\n",
        "plt.xlabel('text length', size = 14)\n",
        "plt.ylabel('denisty', size = 14)\n",
        "plt.legend()\n",
        "plt.show()"
      ],
      "execution_count": null,
      "outputs": [
        {
          "name": "stderr",
          "output_type": "stream",
          "text": [
            "C:\\Users\\Nimble\\anaconda3\\lib\\site-packages\\seaborn\\distributions.py:2551: FutureWarning: `distplot` is a deprecated function and will be removed in a future version. Please adapt your code to use either `displot` (a figure-level function with similar flexibility) or `histplot` (an axes-level function for histograms).\n",
            "  warnings.warn(msg, FutureWarning)\n",
            "C:\\Users\\Nimble\\anaconda3\\lib\\site-packages\\seaborn\\distributions.py:2551: FutureWarning: `distplot` is a deprecated function and will be removed in a future version. Please adapt your code to use either `displot` (a figure-level function with similar flexibility) or `histplot` (an axes-level function for histograms).\n",
            "  warnings.warn(msg, FutureWarning)\n"
          ]
        },
        {
          "data": {
            "text/plain": [
              "<Figure size 720x432 with 0 Axes>"
            ]
          },
          "metadata": {},
          "output_type": "display_data"
        },
        {
          "data": {
            "image/png": "[encoded data removed]",
            "text/plain": [
              "<Figure size 761.625x720 with 1 Axes>"
            ]
          },
          "metadata": {},
          "output_type": "display_data"
        }
      ]
    },
    {
      "cell_type": "markdown",
      "metadata": {
        "id": "mI81WmUKYoS0"
      },
      "source": [
        "#### Observations \n",
        "1. Reliable news title length distribustion is very similar to gaussian dirtibution.\n",
        "2. maximun number of title has length between 0 to 70, it  is centerd to aprox to 10 words for unreliable news title.\n",
        "3. Unreliable title has also follow gaussian distibution with some skewness.\n",
        "4. Distributions of reliable and unreliable are not overlapping.\n",
        "5. we can also se for unreliable news there are very less articles which have length between 20 to 70. \n"
      ]
    },
    {
      "cell_type": "markdown",
      "metadata": {
        "id": "yVPM_uVqYoS1"
      },
      "source": [
        "#### Printing 5 random title  and text\n",
        "##### 1. Text"
      ]
    },
    {
      "cell_type": "code",
      "metadata": {
        "colab": {
          "base_uri": "https://localhost:8080/"
        },
        "id": "qdgLcN0yYoS2",
        "outputId": "f2663e5e-e40b-4708-c8d9-fae68681b4ff"
      },
      "source": [
        "print(train_csv['text'][0])\n",
        "print(\"* * \"*30)\n",
        "print(\"* * \"*30)\n",
        "print(train_csv['text'][5252])\n",
        "print(\"* * \"*30)\n",
        "print(\"* * \"*30)\n",
        "print(train_csv['text'][1551])\n",
        "print(\"* * \"*30)\n",
        "print(\"* * \"*30)\n",
        "print(train_csv['text'][600])\n",
        "print(\"* * \"*30)\n",
        "print(\"* * \"*30)\n",
        "print(train_csv['text'][20000])\n",
        "print(\"* * \"*30)\n",
        "print(\"* * \"*30)"
      ],
      "execution_count": 8,
      "outputs": [
        {
          "output_type": "stream",
          "name": "stdout",
          "text": [
            "House Dem Aide: We Didn’t Even See Comey’s Letter Until Jason Chaffetz Tweeted It By Darrell Lucus on October 30, 2016 Subscribe Jason Chaffetz on the stump in American Fork, Utah ( image courtesy Michael Jolley, available under a Creative Commons-BY license) \n",
            "With apologies to Keith Olbermann, there is no doubt who the Worst Person in The World is this week–FBI Director James Comey. But according to a House Democratic aide, it looks like we also know who the second-worst person is as well. It turns out that when Comey sent his now-infamous letter announcing that the FBI was looking into emails that may be related to Hillary Clinton’s email server, the ranking Democrats on the relevant committees didn’t hear about it from Comey. They found out via a tweet from one of the Republican committee chairmen. \n",
            "As we now know, Comey notified the Republican chairmen and Democratic ranking members of the House Intelligence, Judiciary, and Oversight committees that his agency was reviewing emails it had recently discovered in order to see if they contained classified information. Not long after this letter went out, Oversight Committee Chairman Jason Chaffetz set the political world ablaze with this tweet. FBI Dir just informed me, \"The FBI has learned of the existence of emails that appear to be pertinent to the investigation.\" Case reopened \n",
            "— Jason Chaffetz (@jasoninthehouse) October 28, 2016 \n",
            "Of course, we now know that this was not the case . Comey was actually saying that it was reviewing the emails in light of “an unrelated case”–which we now know to be Anthony Weiner’s sexting with a teenager. But apparently such little things as facts didn’t matter to Chaffetz. The Utah Republican had already vowed to initiate a raft of investigations if Hillary wins–at least two years’ worth, and possibly an entire term’s worth of them. Apparently Chaffetz thought the FBI was already doing his work for him–resulting in a tweet that briefly roiled the nation before cooler heads realized it was a dud. \n",
            "But according to a senior House Democratic aide, misreading that letter may have been the least of Chaffetz’ sins. That aide told Shareblue that his boss and other Democrats didn’t even know about Comey’s letter at the time–and only found out when they checked Twitter. “Democratic Ranking Members on the relevant committees didn’t receive Comey’s letter until after the Republican Chairmen. In fact, the Democratic Ranking Members didn’ receive it until after the Chairman of the Oversight and Government Reform Committee, Jason Chaffetz, tweeted it out and made it public.” \n",
            "So let’s see if we’ve got this right. The FBI director tells Chaffetz and other GOP committee chairmen about a major development in a potentially politically explosive investigation, and neither Chaffetz nor his other colleagues had the courtesy to let their Democratic counterparts know about it. Instead, according to this aide, he made them find out about it on Twitter. \n",
            "There has already been talk on Daily Kos that Comey himself provided advance notice of this letter to Chaffetz and other Republicans, giving them time to turn on the spin machine. That may make for good theater, but there is nothing so far that even suggests this is the case. After all, there is nothing so far that suggests that Comey was anything other than grossly incompetent and tone-deaf. \n",
            "What it does suggest, however, is that Chaffetz is acting in a way that makes Dan Burton and Darrell Issa look like models of responsibility and bipartisanship. He didn’t even have the decency to notify ranking member Elijah Cummings about something this explosive. If that doesn’t trample on basic standards of fairness, I don’t know what does. \n",
            "Granted, it’s not likely that Chaffetz will have to answer for this. He sits in a ridiculously Republican district anchored in Provo and Orem; it has a Cook Partisan Voting Index of R+25, and gave Mitt Romney a punishing 78 percent of the vote in 2012. Moreover, the Republican House leadership has given its full support to Chaffetz’ planned fishing expedition. But that doesn’t mean we can’t turn the hot lights on him. After all, he is a textbook example of what the House has become under Republican control. And he is also the Second Worst Person in the World. About Darrell Lucus \n",
            "Darrell is a 30-something graduate of the University of North Carolina who considers himself a journalist of the old school. An attempt to turn him into a member of the religious right in college only succeeded in turning him into the religious right's worst nightmare--a charismatic Christian who is an unapologetic liberal. His desire to stand up for those who have been scared into silence only increased when he survived an abusive three-year marriage. You may know him on Daily Kos as Christian Dem in NC . Follow him on Twitter @DarrellLucus or connect with him on Facebook . Click here to buy Darrell a Mello Yello. Connect\n",
            "* * * * * * * * * * * * * * * * * * * * * * * * * * * * * * * * * * * * * * * * * * * * * * * * * * * * * * * * * * * * \n",
            "* * * * * * * * * * * * * * * * * * * * * * * * * * * * * * * * * * * * * * * * * * * * * * * * * * * * * * * * * * * * \n",
            "Frontline Troops Forced to Wait for Reinforcements by Jason Ditz, October 26, 2016 Share This \n",
            "After 10 days of upbeat reports on the invasion of Mosul, Iraqi special forces south of the city have run into their first major obstacle, with heavy resistance from ISIS forcing them to pause their advance and wait for additional reinforcements. \n",
            "While officials are treating this as a brief pause, it effectively means that ISIS has temporarily broken the southern advance into Mosul, and that only the northern advance, the Kurdish forces are still approaching the city. \n",
            "That could be a huge problem for the Iraqi government, as in addition to fighting ISIS they’re in a bit of a territorial battle with the Kurdish Peshmerga. The Kurds have annexed a lot of territory they’ve captured, and that could make the Mosul offensive something of a race. \n",
            "It also raises concerns about the Iraqi military’s readiness for the offensive, as in the past they have not reacted well to military setbacks. The ISIS forces have been deploying a large number of car bombs to try to slow the offensive, and the addition of machine gun and sniper fire has ultimately stopped the advance. Last 5 posts by Jason Ditz\n",
            "* * * * * * * * * * * * * * * * * * * * * * * * * * * * * * * * * * * * * * * * * * * * * * * * * * * * * * * * * * * * \n",
            "* * * * * * * * * * * * * * * * * * * * * * * * * * * * * * * * * * * * * * * * * * * * * * * * * * * * * * * * * * * * \n",
            "Email \n",
            "Flush with money from selling inexpensive goods (made by what is in effect slave labor) in the American market, the Chinese communists are continuing their shopping spree by buying up businesses connected with the U.S. entertainment industry. The New American recently reported on the Chinese purchase of AMC (which owns hundreds of movie theaters in the United States) and the desire of a high-ranking member of the Chinese Communist Party to buy an American movie studio. \n",
            "Now, the Chinese firm Wanda, which is owned by the Chinese Communist government, has bought Dick Clark Productions for about $1 billion. \n",
            "Begun in 1957 by the famed host of American Bandstand who died in 2012, Dick Clark Productions produces the Golden Globe Awards, the American Music Awards, and Billboard Music Awards. \n",
            "Wanda is run by Wang Jianlin, who is considered China’s wealthiest man and is a top figure in the ruling oligarchy of the Chinese Communist Party. \n",
            "Xiaoma Lu, the CEO of Wanda Investment, stated, “We are excited to partner with such an iconic company and look forward to supporting the management team as they continue to build the company and expand upon its enormous legacy.” \n",
            "Wang assured that after the purchase business will continue as usual, with the new owners retaining the current executives, including Chairman Peter Guber, CEO Allen Shapiro, and President Michael Mahan. Present owner Todd Boehly will remain as an advisor to Wanda. \n",
            "Another previous Wanda buy was $3.5 billion for Legendary Entertainment, the studio that produced Pacific Rim , Warcraft , and the soon-to-be released The Great Wall , starring Matt Damon. \n",
            "The moves by Wang and the Chinese government into the U.S. entertainment industry have raised some concern in Congress. In September, 16 members of the U.S. House of Representatives wrote a letter to the U.S. Government Accountability Office asking for them to scrutinize Chinese purchases of American entertainment companies as a national security concern. The letter mentioned recent Chinese efforts to “censor topics and exert propaganda controls on American media.” \n",
            "Because of the sheer size of the Chinese movie market, among other reasons, the U.S. industry has already shown extreme caution not to offend the communist giant. For example, when the 1980s movie Red Dawn was recently re-made, the new script originally called for the invaders to be Chinese communists (rather than Russian communists as in the original movie) attempting to take over America. After the film had already been made, MGM became concerned enough about the Chinese reaction to recast the invaders as North Koreans . One supposes there aren’t many moviegoers in North Korea. \n",
            "And that was before Wanda took over AMC. \n",
            "The propaganda opportunities for Wanda and the Chinese communists in the motion picture and television industries far surpass any such possibilities to be advanced by growing wheat, making cars, or selling cheap goods at American retail stores. For many people, once they have viewed an event on the silver screen, or heard someone say something in a movie theater, or even on television, it becomes “reality” for them. \n",
            "Writing in the communist newspaper The Daily Worker in 1925, Will Muezenberg explained the importance of the movie industry in advancing the goals of the communist world. Muezenberg, an agent of the Comintern (created to spread communist ideology and promote Soviet interests worldwide) stated, “One of the most pressing tasks confronting the Communist Party in the field of propaganda is the conquest of this extremely important propaganda unit [the movies], until now the monopoly of the ruling class. We must wrest it from them and turn it against them.” \n",
            "And that is precisely what is involved in the Chinese move into Hollywood and television.  \n",
            "* * * * * * * * * * * * * * * * * * * * * * * * * * * * * * * * * * * * * * * * * * * * * * * * * * * * * * * * * * * * \n",
            "* * * * * * * * * * * * * * * * * * * * * * * * * * * * * * * * * * * * * * * * * * * * * * * * * * * * * * * * * * * * \n",
            "If President Donald Trump’s promised border wall stops only a small fraction of illegal aliens from coming into the U. S. it would save the U. S. billions and easily cover the cost of the wall, a report released Thursday finds. [The   Center for Immigration Studies (CIS) using the estimated education level of illegal alien border crossers and immigrant education estimates from National Academies of Sciences, Engineering, and Medicine (NAS) found that each illegal alien entering the U. S. racks up at least $74, 722 in lifetime costs, funded by American taxpayers.  “[I]f a border wall stopped a small fraction of the illegal immigrants who are expected to come in the next decade, the fiscal savings from having fewer illegal immigrants in the country would be sufficient to cover the costs of the wall,” writes CIS Director of Research Steven Camarota.  Even a minimally effective border wall that stopped less than ten percent of illegal crossings would save the U. S. billions. “If a border wall stopped between 160, 000 and 200, 000 illegal crossers —  nine to 12 percent of those expected to successfully cross in the next decade —  the scaled savings would equal the $12 to $15 billion cost of the wall,” Camarota writes. Approximately 170, 000 illegal aliens crossed into the U. S. without going through a port of entry in 2015, according to a study commissioned by the Department of Homeland Security. “[T]here may be 1. 7 million successful crossings in the next decade. If a wall stopped just 9 to 12 percent of these crossings it would pay for itself,” the CIS report states. “[T]here may be 1. 7 million successful crossings in the next decade. If a wall stopped just 9 to 12 percent of these crossings it would pay for itself,” the CIS report states. “If a wall stopped half of those expected to successfully enter illegally without going through a port of entry at the southern border over the next 10 years, it would save taxpayers nearly $64 billion —  several times the wall’s cost,” the report adds. And that’s excluding the cost of children produced by illegal immigrants. The federal government imposes a massive, unfunded mandate on school districts around the country by forcing American parents to divert funding from their own children to educate roughly 3. 62 million foreign students, many of whom are extremely   students and do not speak English. The Federation for American Immigration Reform (FAIR) found it costs taxpayers $59. 8 billion per year to educate roughly 3. 62 million   students, children with one or two legal migrant parents, and refugees. Approximately one in ten students enrolled in public schools is designated as Limited English Proficiency (LEP) and their academic performance has been described as “abominable”: The number of eighth to twelfth grade LEP students performing Advanced work rounds to zero percent, for example. The CIS report notes that the estimates do not include illegal aliens who overstay their visas, and state and local governments bear a significant portion of illegal immigration’s costs.\n",
            "* * * * * * * * * * * * * * * * * * * * * * * * * * * * * * * * * * * * * * * * * * * * * * * * * * * * * * * * * * * * \n",
            "* * * * * * * * * * * * * * * * * * * * * * * * * * * * * * * * * * * * * * * * * * * * * * * * * * * * * * * * * * * * \n",
            "Bill Maher calling himself a “house n****” on Friday’s episode of Real Time has sparked serious outrage across social media and caused many people, including some prominent black social justice activists, to call for the HBO host to be fired. [During a conversation with Sen. Ben Sasse ( ) Maher told the lawmaker: “I’ve gotta get to Nebraska more. ”  “You’re welcome. We’d love to have you work in the fields with us,” Sen. Sasse jokingly replied. Maher said in response:: “Work in the fields? Senator, I’m a house n****. ” Met with a mix of groans and laughs from the audience, Maher said, “It’s a joke. ” The internet, however, didn’t find Maher’s comments funny or his explanation acceptable. Black Lives Matter activist Deray McKesson wrote on Twitter, “But really, @BillMaher has got to go. There are no explanations that make this acceptable. ” But really, @BillMaher has got to go. There are no explanations that make this acceptable. pic. twitter.   —   deray mckesson (@deray) June 3, 2017,  “And why did the audience think it was okay to laugh? And Ben Sasse doesn’t even flinch. What is happening in the world?” McKesson added. And why did the audience think it was okay to laugh? And Ben Sasse doesn’t even flinch. What is happening in the world?  —   deray mckesson (@deray) June 3, 2017,  Netflix’s Orange is the New Black star Danielle Brooks shared McKesson’s furor at what Maher said, writing on Twitter: “Unacceptable. And the audience applauds! ?! So hurtful. ” Unacceptable. And the audience applauds! ?! So hurtful. https:  .   —   Danielle Brooks (@thedanieb) June 3, 2017,  Soon, social media was filled with journalists, comedians, and viewers who expressed shock and outrage at Maher. Just a quick reminder that Bill Maher is trash,  —   BCC (@ByCommonConsent) June 3, 2017,  Bill Maher gotta go.  —   Nina Parker (@MzGossipGirl) June 3, 2017,  For me, the jig has been up on Bill Maher for a long time. So, nah.  —   Jemele Hill (@jemelehill) June 3, 2017,  Me after watching that clip of Bill Maher pic. twitter.   —   Jamelle Bouie (@jbouie) June 3, 2017,  And Ben Sasse  the audience chuckle along with Bill Maher’s racism  …     https:  .   —   TC (@tchopstl_) June 3, 2017,  I used to love bill maher smh.  —   Ambquisha (@QueChainz) June 3, 2017,  Did bill maher really just say he was a house n****? ???? ??WHAT IS WRONG WITH HIM,  —   kat calabrese (@KatCalabrese) June 3, 2017,  Today is the day Bill Maher became president.  —   Michael Ian Black (@michaelianblack) June 3, 2017,  Some social media users said Maher’s joke was akin to the   stunt Kathy Griffin pulled earlier this week when she posed for a shock photo holding up a bloodied, decapitated head of President Donald Trump. Kathy Griffin: I really fucked up in an attempt to gain attention. Bill Maher: Hold my joint  …    . #RealTime #HouseWhat?  —   Wallace Ritchie (@WallaceRitchie) June 3, 2017,  ”No one can ruin their career faster than Kathy Griffin” Bill Maher  —   Hold my beer,  —   Jack Posobiec 🇺🇸 (@JackPosobiec) June 3, 2017,  Kathy Griffin at home right now, thankfully watching Bill Maher like pic. twitter.   —   Behdad Sami (@iambdsami) June 3, 2017,  Tiger Woods: Nobody could screw up their career the way I did last weekend.  Kathy Griffin: Hold my beer. Bill Maher: Mind if I join you?  —   Tennessee (@TEN_GOP) June 3, 2017,  This isn’t the first time Maher has dropped the   during a TV broadcast. The    comedian said during a September 2010 interview with Larry King that Republicans referred to President Barack Obama as “Kenyan,” which is “code for n*****. ” “That’s the new Kenyan, Larry. And Kenyan, of course, was code for [the  ]. But that’s where they are. They can’t say it out loud. But that’s where this whole campaign is going to be,” Maher said according to a CNN transcript. During a February episode of Real Time, Maher said, “I don’t know it for a fact that Jeff Sessions is a big fan of the movie Loving because he loves being able to talk about Ruth Negga,” referring to the   star who’s name sounds similar to the  .  Maher, who is in his 15th season as host of Real Time, has not publicly responded to the controversy. Follow Jerome Hudson on Twitter @jeromeehudson\n",
            "* * * * * * * * * * * * * * * * * * * * * * * * * * * * * * * * * * * * * * * * * * * * * * * * * * * * * * * * * * * * \n",
            "* * * * * * * * * * * * * * * * * * * * * * * * * * * * * * * * * * * * * * * * * * * * * * * * * * * * * * * * * * * * \n"
          ]
        }
      ]
    },
    {
      "cell_type": "markdown",
      "metadata": {
        "id": "95uMPPOeYoS2"
      },
      "source": [
        "##### Obsevations\n",
        "1. There are lots of seplecial sympbol present in the text like Apostrophe('s), Parenthesis(),Single Quotation      Marks(''),Period(.),square brakets[] and many more.\n",
        "2. Numerical data also present in the text.\n",
        "3. Username of various social platforms are also present eg. @jasoninthehouse.\n",
        "4. In text Abrivations are also present eg. Limited English Proficiency (LEP).\n",
        "5. there are also some words like n*****?, ???? ??"
      ]
    },
    {
      "cell_type": "markdown",
      "metadata": {
        "id": "UKBC_7woYoS3"
      },
      "source": [
        "##### 2. Title"
      ]
    },
    {
      "cell_type": "code",
      "metadata": {
        "colab": {
          "base_uri": "https://localhost:8080/"
        },
        "id": "xIwmzaoKYoS3",
        "outputId": "8d76fd1d-7ef2-4856-a53e-3a5fefdfc31e"
      },
      "source": [
        "print(train_csv['title'][0])\n",
        "print(\"* * \"*30)\n",
        "\n",
        "print(train_csv['title'][5252])\n",
        "print(\"* * \"*30)\n",
        "\n",
        "print(train_csv['title'][1451])\n",
        "print(\"* * \"*30)\n",
        "\n",
        "print(train_csv['title'][600])\n",
        "print(\"* * \"*30)\n",
        "\n",
        "print(train_csv['title'][20000])\n",
        "print(\"* * \"*30)\n"
      ],
      "execution_count": 11,
      "outputs": [
        {
          "output_type": "stream",
          "name": "stdout",
          "text": [
            "House Dem Aide: We Didn’t Even See Comey’s Letter Until Jason Chaffetz Tweeted It\n",
            "* * * * * * * * * * * * * * * * * * * * * * * * * * * * * * * * * * * * * * * * * * * * * * * * * * * * * * * * * * * * \n",
            "Iraqi Offensive South of Mosul Stalls as ISIS Resistance Grows\n",
            "* * * * * * * * * * * * * * * * * * * * * * * * * * * * * * * * * * * * * * * * * * * * * * * * * * * * * * * * * * * * \n",
            "Two Candidates. Two Speeches. One Cliché After Another From Clinton and Trump. - The New York Times\n",
            "* * * * * * * * * * * * * * * * * * * * * * * * * * * * * * * * * * * * * * * * * * * * * * * * * * * * * * * * * * * * \n",
            "Report: Stopping Only Nine Percent of Illegal Alien Border Crossers Would Pay for Trump’s Border Wall - Breitbart\n",
            "* * * * * * * * * * * * * * * * * * * * * * * * * * * * * * * * * * * * * * * * * * * * * * * * * * * * * * * * * * * * \n",
            "Bill Maher Sparks Outrage After Telling Ben Sasse He’s a ’House N**ga’: ’So Hurtful’\n",
            "* * * * * * * * * * * * * * * * * * * * * * * * * * * * * * * * * * * * * * * * * * * * * * * * * * * * * * * * * * * * \n"
          ]
        }
      ]
    },
    {
      "cell_type": "markdown",
      "metadata": {
        "id": "Rxm5Lo9gYoS4"
      },
      "source": [
        "### Preprocessing\n",
        "    step 1. Decontractions of sentence.\n",
        "    step 2. Removing URLs from text.\n",
        "    step 3. Removing username of Twitter i.e (@username).\n",
        "    step 4. Removing picture links of Twitter.\n",
        "    step 5. Removing digits from the text.\n",
        "    step 6. Removing newline chracter and tab (\\n,\\t)\n",
        "    step 7. Removing special characters.\n",
        "    step 8. Removing extra spaces and trailing spaces.\n",
        "    step 9. Removing stop words.\n",
        "    step 10.Doing text in lowercase.\n",
        "    step 11.Removing single words from text.\n",
        "    \n",
        "These Preprocessing steps will apply on Text, title and author name.    "
      ]
    },
    {
      "cell_type": "code",
      "metadata": {
        "id": "CXwrNNLyYoS4"
      },
      "source": [
        ""
      ],
      "execution_count": null,
      "outputs": []
    },
    {
      "cell_type": "code",
      "metadata": {
        "id": "dlmwzk6IYoS4"
      },
      "source": [
        "# https://gist.github.com/sebleier/554280\n",
        "# refrence applied ai\n",
        "# we are removing the words from the stop words list: 'no', 'nor', 'not'\n",
        "stopwords= ['i', 'me', 'my', 'myself', 'we', 'our', 'ours', 'ourselves', 'you', \"you're\", \"you've\",\\\n",
        "            \"you'll\", \"you'd\", 'your', 'yours', 'yourself', 'yourselves', 'he', 'him', 'his', 'himself', \\\n",
        "            'she', \"she's\", 'her', 'hers', 'herself', 'it', \"it's\", 'its', 'itself', 'they', 'them', 'their',\\\n",
        "            'theirs', 'themselves', 'what', 'which', 'who', 'whom', 'this', 'that', \"that'll\", 'these', 'those', \\\n",
        "            'am', 'is', 'are', 'was', 'were', 'be', 'been', 'being', 'have', 'has', 'had', 'having', 'do', 'does', \\\n",
        "            'did', 'doing', 'a', 'an', 'the', 'and', 'but', 'if', 'or', 'because', 'as', 'until', 'while', 'of', \\\n",
        "            'at', 'by', 'for', 'with', 'about', 'against', 'between', 'into', 'through', 'during', 'before', 'after',\\\n",
        "            'above', 'below', 'to', 'from', 'up', 'down', 'in', 'out', 'on', 'off', 'over', 'under', 'again', 'further',\\\n",
        "            'then', 'once', 'here', 'there', 'when', 'where', 'why', 'how', 'all', 'any', 'both', 'each', 'few', 'more',\\\n",
        "            'most', 'other', 'some', 'such', 'only', 'own', 'same', 'so', 'than', 'too', 'very', \\\n",
        "            's', 't', 'can', 'will', 'just', 'don', \"don't\", 'should', \"should've\", 'now', 'd', 'll', 'm', 'o', 're', \\\n",
        "            've', 'y', 'ain', 'aren', \"aren't\", 'couldn', \"couldn't\", 'didn', \"didn't\", 'doesn', \"doesn't\", 'hadn',\\\n",
        "            \"hadn't\", 'hasn', \"hasn't\", 'haven', \"haven't\", 'isn', \"isn't\", 'ma', 'mightn', \"mightn't\", 'mustn',\\\n",
        "            \"mustn't\", 'needn', \"needn't\", 'shan', \"shan't\", 'shouldn', \"shouldn't\", 'wasn', \"wasn't\", 'weren', \"weren't\", \\\n",
        "            'won', \"won't\", 'wouldn', \"wouldn't\"]"
      ],
      "execution_count": 12,
      "outputs": []
    },
    {
      "cell_type": "code",
      "metadata": {
        "id": "KlPTyBbDYoS6"
      },
      "source": [
        ""
      ],
      "execution_count": null,
      "outputs": []
    },
    {
      "cell_type": "code",
      "metadata": {
        "id": "0AOfd7ivYoS6"
      },
      "source": [
        "import re\n",
        "from bs4 import BeautifulSoup\n",
        "def preprocessig_text(text):\n",
        "    #remove HTML from the Text column and save in the Text if present\n",
        "    string=str(text)\n",
        "    soup = BeautifulSoup(text, 'lxml')\n",
        "    text = soup.get_text()    \n",
        "    ################################################\n",
        "    # decontracting text refrence applied ai\n",
        "    string = re.sub(r\"won't\", \"will not\", string)\n",
        "    string = re.sub(r\"can\\'t\", \"can not\", string)\n",
        "    string = re.sub(r\"n\\'t\", \" not\", string)\n",
        "    string = re.sub(r\"\\'re\", \" are\", string)\n",
        "    string = re.sub(r\"\\'s\", \" is\", string)\n",
        "    string = re.sub(r\"\\'d\", \" would\", string)\n",
        "    string = re.sub(r\"\\'ll\", \" will\", string)\n",
        "    string = re.sub(r\"\\'t\", \" not\", string)\n",
        "    string = re.sub(r\"\\'ve\", \" have\", string)\n",
        "    string = re.sub(r\"\\'m\", \" am\", string)\n",
        "    ###################################################\n",
        "    # removing url from text\n",
        "    #http://urlregex.com/\n",
        "    string=re.sub('http[s]?://(?:[a-zA-Z]|[0-9]|[$-_@.&+]|[!*\\(\\),]|(?:%[0-9a-fA-F][0-9a-fA-F]))+','', string)\n",
        "    string=re.sub('(@\\w{1,})','',string) # removing usernames(@johndeapth)\n",
        "    string=re.sub('pic.twitter.com/.+','',string) # removing image captions\n",
        "    string=re.sub('\\d','',string) # removing digits\n",
        "    string=re.sub('\\n',' ', string) # repacing new line character with one space\n",
        "    string=re.sub('\\t',' ', string) # replacing tab with space\n",
        "    ##################################################################################################\n",
        "    # removing some of the spacial charcters.\n",
        "    string=re.sub('\\.','',string) # removing period\n",
        "    string=re.sub(',','', string) # removing comma\n",
        "    string=re.sub('_','', string) # removing underscore\n",
        "    string=re.sub('-',' ', string) # remving hyphen\n",
        "    string=re.sub('[^A-aZ-z ]','', string) # removing all special charcters  expect space  and \n",
        "    #if diffent language wordcome it will also take care of it.\n",
        "    string=re.sub('\\[',' ', string) # removing square brackets\n",
        "    string=re.sub('\\]',' ', string) # \n",
        "    string=re.sub(' {2,}',' ', string) # replacing two or more spaces with one space\n",
        "    string=string.strip()\n",
        "    # removing stop words from text\n",
        "    # https://gist.github.com/sebleier/554280\n",
        "    string = ' '.join(e for e in string.split() if e.lower() not in stopwords)\n",
        "    string=string.lower()\n",
        "    string = re.sub(r'\\b\\w{1,2}\\b',\"\",string) #remove words <2\n",
        "    string=re.sub(' {2,}','', string) # replacing two or more spaces with one space\n",
        "    return string   "
      ],
      "execution_count": 13,
      "outputs": []
    },
    {
      "cell_type": "code",
      "metadata": {
        "id": "z5bA7sy9YoS8",
        "outputId": "717570e5-bfde-4f15-bd33-2c269e64410b"
      },
      "source": [
        "#printing preprocessed text.\n",
        "print(preprocessig_text(train_csv.text[20000]))"
      ],
      "execution_count": null,
      "outputs": [
        {
          "name": "stdout",
          "output_type": "stream",
          "text": [
            "bill maher calling housefridays episode real time sparked serious outrage across social media caused many people including prominent black social justice activists call hbo host fired conversation sen ben sasse maher told lawmaker ive gotta get nebraska youre welcome wed love work fieldssen sasse jokingly replied maher said response work fields senatorhousemet mix groans laughs audience maher said joke internet however didnt find mahers comments funny explanation acceptable black lives matter activist deray mckesson wrote twitter really gotexplanations make acceptable really gotexplanations make acceptable pic twitter deray mckesson june audience think okay laugh ben sasse doesnt even flinch happening world mckesson added audience think okay laugh ben sasse doesnt even flinch happening world deray mckesson june netflixs orange new black star danielle brooks shared mckessons furor maher said writing twitter unacceptable audience applauds hurtful unacceptable audience applauds hurtful https danielle brooks june soon social media filled journalists comedians viewers expressed shock outrage maher quick reminder bill maher trash bcc june bill maher gottanina parker june jig bill maher long time nah jemele hill june watching clip bill maher pic twitter jamelle bouie june ben sasse audience chuckle along bill mahers racism httpsjune used love bill maher smh ambquisha june bill maher really say housewrong kat calabrese june today day bill maher became president michael ian black june social media users said mahers joke akin stunt kathy griffin pulled earlier week posed shock photo holding bloodied decapitated head president donald trump kathy griffin really fucked attempt gain attention bill maher hold joint realtime housewhat wallace ritchie juneone ruin career faster kathy griffin bill maher hold beer jack posobiec june kathy griffin home right thankfully watching bill maher like pic twitter behdad sami june tiger woods nobody could screw career way last weekend kathy griffin hold beer bill maher mind join tennessee june isnt first time maher droppedbroadcast comedian said september interview larry king republicans referred president barack obama kenyan codethats new kenyan larry kenyan course code thats cant say loud thats whole campaign going maher said according cnn transcript february episode real time maher said dont know fact jeff sessions big fan movie loving loves able talk ruth negga referring star whos name sounds similar maherseason host real time not publicly responded controversy follow jerome hudson twitter\n"
          ]
        }
      ]
    },
    {
      "cell_type": "code",
      "metadata": {
        "id": "lqdu1PfjYoS8"
      },
      "source": [
        "#Creating new columns for preprocessed text, title and author name.\n",
        "from tqdm import tqdm\n",
        "def get_preprocess(column):\n",
        "    pre_pro_text=[]\n",
        "    for i in tqdm(column):\n",
        "        pre_text=''\n",
        "        pre_text=preprocessig_text(i)\n",
        "        pre_pro_text.append(pre_text)\n",
        "    return pre_pro_text\n"
      ],
      "execution_count": 14,
      "outputs": []
    },
    {
      "cell_type": "code",
      "metadata": {
        "colab": {
          "base_uri": "https://localhost:8080/"
        },
        "id": "W1gk6KImYoS9",
        "outputId": "45c42c2f-efb9-4917-921e-d91dcb33c642"
      },
      "source": [
        "# train data.\n",
        "#getting preprocessed text.\n",
        "pre_text=get_preprocess(train_csv.text.values)\n",
        "pre_title=get_preprocess(train_csv.title.values)\n",
        "pre_author=get_preprocess(train_csv.author.values)\n",
        "# test data\n",
        "pre_text_test=get_preprocess(test_csv.text.values)\n",
        "pre_title_test=get_preprocess(test_csv.title.values)\n",
        "pre_author_test=get_preprocess(test_csv.author.values)"
      ],
      "execution_count": 15,
      "outputs": [
        {
          "output_type": "stream",
          "name": "stderr",
          "text": [
            "100%|██████████| 18240/18240 [00:50<00:00, 361.58it/s]\n",
            " 96%|█████████▌| 17439/18240 [00:09<00:00, 1876.20it/s]/usr/local/lib/python3.7/dist-packages/bs4/__init__.py:336: UserWarning: \"https://youtu.be/BFpFCy_b2SM\" looks like a URL. Beautiful Soup is not an HTTP client. You should probably use an HTTP client like requests to get the document behind the URL, and feed that document to Beautiful Soup.\n",
            "  ' that document to Beautiful Soup.' % decoded_markup\n",
            "100%|██████████| 18240/18240 [00:09<00:00, 1871.55it/s]\n",
            "100%|██████████| 18240/18240 [00:08<00:00, 2053.84it/s]\n",
            "100%|██████████| 4573/4573 [00:12<00:00, 360.16it/s]\n",
            "100%|██████████| 4573/4573 [00:02<00:00, 1880.01it/s]\n",
            "100%|██████████| 4573/4573 [00:02<00:00, 2079.33it/s]\n"
          ]
        }
      ]
    },
    {
      "cell_type": "code",
      "metadata": {
        "id": "ic4qC1kuYoS-"
      },
      "source": [
        "#adding preoprocseed data into dataframe\n",
        "train_csv['pre_text']=pre_text\n",
        "train_csv['pre_title']=pre_title\n",
        "train_csv['pre_author']=pre_author\n",
        "# test data\n",
        "test_csv['pre_text']=pre_text_test\n",
        "test_csv['pre_title']=pre_title_test\n",
        "test_csv['pre_author']=pre_author_test"
      ],
      "execution_count": 16,
      "outputs": []
    },
    {
      "cell_type": "code",
      "metadata": {
        "colab": {
          "base_uri": "https://localhost:8080/",
          "height": 536
        },
        "id": "O69GxriyYoS_",
        "outputId": "31166ee1-cf24-4b38-b71c-3ed792f38af9"
      },
      "source": [
        "train_csv.tail(10)"
      ],
      "execution_count": 14,
      "outputs": [
        {
          "output_type": "execute_result",
          "data": {
            "text/html": [
              "<div>\n",
              "<style scoped>\n",
              "    .dataframe tbody tr th:only-of-type {\n",
              "        vertical-align: middle;\n",
              "    }\n",
              "\n",
              "    .dataframe tbody tr th {\n",
              "        vertical-align: top;\n",
              "    }\n",
              "\n",
              "    .dataframe thead th {\n",
              "        text-align: right;\n",
              "    }\n",
              "</style>\n",
              "<table border=\"1\" class=\"dataframe\">\n",
              "  <thead>\n",
              "    <tr style=\"text-align: right;\">\n",
              "      <th></th>\n",
              "      <th>id</th>\n",
              "      <th>title</th>\n",
              "      <th>author</th>\n",
              "      <th>text</th>\n",
              "      <th>label</th>\n",
              "      <th>pre_text</th>\n",
              "      <th>pre_title</th>\n",
              "      <th>pre_author</th>\n",
              "    </tr>\n",
              "  </thead>\n",
              "  <tbody>\n",
              "    <tr>\n",
              "      <th>20790</th>\n",
              "      <td>20790</td>\n",
              "      <td>Nikki Haley Blasts U.N. Human Rights Office fo...</td>\n",
              "      <td>Adam Shaw</td>\n",
              "      <td>U. S Ambassador to the United Nations Nikki Ha...</td>\n",
              "      <td>0</td>\n",
              "      <td>ambassador united nations nikki haley blasted...</td>\n",
              "      <td>nikki haley blastshuman rights office unfair b...</td>\n",
              "      <td>adam shaw</td>\n",
              "    </tr>\n",
              "    <tr>\n",
              "      <th>20791</th>\n",
              "      <td>20791</td>\n",
              "      <td>Lawyer Who Kept Hillary Campaign Chief Out of ...</td>\n",
              "      <td>Daniel Greenfield</td>\n",
              "      <td>Lawyer Who Kept Hillary Campaign Chief Out of ...</td>\n",
              "      <td>1</td>\n",
              "      <td>lawyer kept hillary campaign chief jail doj hi...</td>\n",
              "      <td>lawyer kept hillary campaign chief jail doj hi...</td>\n",
              "      <td>daniel greenfield</td>\n",
              "    </tr>\n",
              "    <tr>\n",
              "      <th>20792</th>\n",
              "      <td>20792</td>\n",
              "      <td>Jakarta Bombing Kills Three Police Officers, L...</td>\n",
              "      <td>John Hayward</td>\n",
              "      <td>Two suicide bombers attacked a bus station in ...</td>\n",
              "      <td>0</td>\n",
              "      <td>two suicide bombers attacked bus station jakar...</td>\n",
              "      <td>jakarta bombing kills three police officers li...</td>\n",
              "      <td>john hayward</td>\n",
              "    </tr>\n",
              "    <tr>\n",
              "      <th>20793</th>\n",
              "      <td>20793</td>\n",
              "      <td>Idiot Who Destroyed Trump Hollywood Star Gets ...</td>\n",
              "      <td>Robert Rich</td>\n",
              "      <td>Share This \\nAlthough the vandal who thought i...</td>\n",
              "      <td>1</td>\n",
              "      <td>share although vandal thought cool destroy don...</td>\n",
              "      <td>idiot destroyed trump hollywood star gets exac...</td>\n",
              "      <td>robert rich</td>\n",
              "    </tr>\n",
              "    <tr>\n",
              "      <th>20794</th>\n",
              "      <td>20794</td>\n",
              "      <td>Trump: Putin ’Very Smart’ to Not Retaliate ove...</td>\n",
              "      <td>Lee Stranahan</td>\n",
              "      <td>Donald Trump took to Twitter Friday to praise ...</td>\n",
              "      <td>0</td>\n",
              "      <td>donald trump took twitter friday praise vladim...</td>\n",
              "      <td>trump putin smart not retaliate obama sanction...</td>\n",
              "      <td>lee stranahan</td>\n",
              "    </tr>\n",
              "    <tr>\n",
              "      <th>20795</th>\n",
              "      <td>20795</td>\n",
              "      <td>Rapper T.I.: Trump a ’Poster Child For White S...</td>\n",
              "      <td>Jerome Hudson</td>\n",
              "      <td>Rapper T. I. unloaded on black celebrities who...</td>\n",
              "      <td>0</td>\n",
              "      <td>rapper unloaded black celebrities met donald t...</td>\n",
              "      <td>rappertrump poster child white supremacy</td>\n",
              "      <td>jerome hudson</td>\n",
              "    </tr>\n",
              "    <tr>\n",
              "      <th>20796</th>\n",
              "      <td>20796</td>\n",
              "      <td>N.F.L. Playoffs: Schedule, Matchups and Odds -...</td>\n",
              "      <td>Benjamin Hoffman</td>\n",
              "      <td>When the Green Bay Packers lost to the Washing...</td>\n",
              "      <td>0</td>\n",
              "      <td>green bay packers lost washington redskins wee...</td>\n",
              "      <td>nfl playoffs schedule matchups odds new york t...</td>\n",
              "      <td>benjamin hoffman</td>\n",
              "    </tr>\n",
              "    <tr>\n",
              "      <th>20797</th>\n",
              "      <td>20797</td>\n",
              "      <td>Macy’s Is Said to Receive Takeover Approach by...</td>\n",
              "      <td>Michael J. de la Merced and Rachel Abrams</td>\n",
              "      <td>The Macy’s of today grew from the union of sev...</td>\n",
              "      <td>0</td>\n",
              "      <td>macys today grew union several great names ame...</td>\n",
              "      <td>macys said receive takeover approach hudsons b...</td>\n",
              "      <td>michaelmerced rachel abrams</td>\n",
              "    </tr>\n",
              "    <tr>\n",
              "      <th>20798</th>\n",
              "      <td>20798</td>\n",
              "      <td>NATO, Russia To Hold Parallel Exercises In Bal...</td>\n",
              "      <td>Alex Ansary</td>\n",
              "      <td>NATO, Russia To Hold Parallel Exercises In Bal...</td>\n",
              "      <td>1</td>\n",
              "      <td>nato russia hold parallel exercises balkans pr...</td>\n",
              "      <td>nato russia hold parallel exercises balkans</td>\n",
              "      <td>alex ansary</td>\n",
              "    </tr>\n",
              "    <tr>\n",
              "      <th>20799</th>\n",
              "      <td>20799</td>\n",
              "      <td>What Keeps the F-35 Alive</td>\n",
              "      <td>David Swanson</td>\n",
              "      <td>David Swanson is an author, activist, journa...</td>\n",
              "      <td>1</td>\n",
              "      <td>david swanson author activist journalist radio...</td>\n",
              "      <td>keepsalive</td>\n",
              "      <td>david swanson</td>\n",
              "    </tr>\n",
              "  </tbody>\n",
              "</table>\n",
              "</div>"
            ],
            "text/plain": [
              "          id  ...                   pre_author\n",
              "20790  20790  ...                    adam shaw\n",
              "20791  20791  ...            daniel greenfield\n",
              "20792  20792  ...                 john hayward\n",
              "20793  20793  ...                  robert rich\n",
              "20794  20794  ...                lee stranahan\n",
              "20795  20795  ...                jerome hudson\n",
              "20796  20796  ...             benjamin hoffman\n",
              "20797  20797  ...  michaelmerced rachel abrams\n",
              "20798  20798  ...                  alex ansary\n",
              "20799  20799  ...                david swanson\n",
              "\n",
              "[10 rows x 8 columns]"
            ]
          },
          "metadata": {},
          "execution_count": 14
        }
      ]
    },
    {
      "cell_type": "code",
      "metadata": {
        "colab": {
          "base_uri": "https://localhost:8080/"
        },
        "id": "7Yvs3Mb7YoS_",
        "outputId": "b55fedd5-8706-415a-8f5f-afae81e5bf0a"
      },
      "source": [
        "train_csv.shape"
      ],
      "execution_count": 15,
      "outputs": [
        {
          "output_type": "execute_result",
          "data": {
            "text/plain": [
              "(18240, 8)"
            ]
          },
          "metadata": {},
          "execution_count": 15
        }
      ]
    },
    {
      "cell_type": "markdown",
      "metadata": {
        "id": "_kMzru8hcnLm"
      },
      "source": [
        "### Mergeing Text,Title and Author."
      ]
    },
    {
      "cell_type": "code",
      "metadata": {
        "id": "1RTMLgGjYoTA"
      },
      "source": [
        "train_csv['merged']=train_csv['pre_text']+train_csv['pre_title']+train_csv['pre_author']\n",
        "test_csv['merged']=test_csv['pre_text']+test_csv['pre_title']+test_csv['pre_author']\n"
      ],
      "execution_count": 17,
      "outputs": []
    },
    {
      "cell_type": "code",
      "metadata": {
        "colab": {
          "base_uri": "https://localhost:8080/"
        },
        "id": "EKjMNZ_ewh4p",
        "outputId": "6e78d2d8-e18d-46f5-9001-ffde10bd75b3"
      },
      "source": [
        "X_test.shape"
      ],
      "execution_count": 45,
      "outputs": [
        {
          "output_type": "execute_result",
          "data": {
            "text/plain": [
              "(4573,)"
            ]
          },
          "metadata": {},
          "execution_count": 45
        }
      ]
    },
    {
      "cell_type": "markdown",
      "metadata": {
        "id": "XU9y-fjzdp-S"
      },
      "source": [
        "### Spliting Train data into trian and cross validation data\n"
      ]
    },
    {
      "cell_type": "code",
      "metadata": {
        "id": "fe15WS6GekRm"
      },
      "source": [
        "text_data_train=train_csv['merged']\n",
        "text_data_test=test_csv['merged']\n",
        "class_label=train_csv['label']"
      ],
      "execution_count": 18,
      "outputs": []
    },
    {
      "cell_type": "code",
      "metadata": {
        "colab": {
          "base_uri": "https://localhost:8080/"
        },
        "id": "G0rqSW2cdnXS",
        "outputId": "04e4038f-b019-4d5f-dae5-b860adb4345d"
      },
      "source": [
        "X_train, X_cv, y_train, y_cv = train_test_split(text_data_train, class_label, test_size=0.33, random_state=42,stratify=class_label)\n",
        "print('x_train, y_train = ',X_train.shape,y_train.shape )\n",
        "print('x_train, y_train = ',X_cv.shape,y_cv.shape )"
      ],
      "execution_count": 19,
      "outputs": [
        {
          "output_type": "stream",
          "name": "stdout",
          "text": [
            "x_train, y_train =  (12220,) (12220,)\n",
            "x_train, y_train =  (6020,) (6020,)\n"
          ]
        }
      ]
    },
    {
      "cell_type": "code",
      "metadata": {
        "colab": {
          "base_uri": "https://localhost:8080/"
        },
        "id": "AwywEIp7fFBz",
        "outputId": "fb099198-f4c2-4be7-d1e1-b093be64010c"
      },
      "source": [
        "print(X_train[0])\n",
        "print(y_train[0])"
      ],
      "execution_count": 26,
      "outputs": [
        {
          "output_type": "stream",
          "name": "stdout",
          "text": [
            "house dem aide didnt even see comeys letter jason chaffetz tweeted darrell lucus october subscribe jason chaffetz stump american fork utah image courtesy michael jolley available creative commons license apologies keith olbermanndoubt worst person world weekfbi director james comey according house democratic aide looks like also know second worst person well turns comey sent infamous letter announcing fbi looking emails may related hillary clintons email server ranking democrats relevant committees didnt hear comey found via tweet one republican committee chairmen know comey notified republican chairmen democratic ranking members house intelligence judiciary oversight committees agency reviewing emails recently discovered order see contained classified information not long letter went oversight committee chairman jason chaffetz set political world ablaze tweet fbi dir informed fbi learned existence emails appear pertinent investigation case reopened jason chaffetz october course know not case comey actually saying reviewing emails light unrelated casewhich know anthony weiners sexting teenager apparently little things facts didnt matter chaffetz utah republican already vowed initiate raft investigations hillary winsat least two years worth possibly entire terms worth apparently chaffetz thought fbi already work himresulting tweet briefly roiled nation cooler heads realized dud according senior house democratic aide misreading letter may least chaffetz sins aide told shareblue boss democrats didnt even know comeys letter timeand found checked twitter democratic ranking members relevant committees didnt receive comeys letter republican chairmen fact democratic ranking members receive chairman oversight government reform committee jason chaffetz tweeted made public lets see weve got right fbi director tells chaffetz gop committee chairmen major development potentially politically explosive investigation neither chaffetz nor colleagues courtesy let democratic counterparts know instead according aide made find twitter already talk daily kos comey provided advance notice letter chaffetz republicans giving time turn spin machine may make good theater nothing far even suggests case nothing far suggests comey anything grossly incompetent tone deaf suggest however chaffetz acting way makes dan burton darrell issa look like models responsibility bipartisanship didnt even decency notify ranking member elijah cummings something explosive doesnt trample basic standards fairness dont know granted not likely chaffetz answer sits ridiculously republican district anchored provo orem cook partisan voting indexgave mitt romney punishing percent vote moreover republican house leadership given full support chaffetz planned fishing expedition doesnt mean cant turn hot lights textbook example house become republican control also second worst person world darrell lucus darrell something graduate university north carolina considers journalist old school attempt turn member religious right college succeeded turning religious right worst nightmare charismatic christian unapologetic liberal desire stand scared silence increased survived abusive three year marriage may know daily kos christian demfollow twitter connect facebook click buy darrell mello yello connecthouse dem aide didnt even see comeys letter jason chaffetz tweeteddarrell lucus\n",
            "1\n"
          ]
        }
      ]
    },
    {
      "cell_type": "code",
      "metadata": {
        "colab": {
          "base_uri": "https://localhost:8080/"
        },
        "id": "ZdS9X8Uv1T1x",
        "outputId": "3a19fc37-ba4c-4016-b6b9-bc033d63c512"
      },
      "source": [
        "X_train=np.array(X_train)\n",
        "X_cv=np.array(X_cv)\n",
        "print('x_train, y_train = ',X_train.shape,y_train.shape )\n",
        "print('x_train, y_train = ',X_cv.shape,y_cv.shape )"
      ],
      "execution_count": 70,
      "outputs": [
        {
          "output_type": "stream",
          "name": "stdout",
          "text": [
            "x_train, y_train =  (12220,) (12220,)\n",
            "x_train, y_train =  (6020,) (6020,)\n"
          ]
        }
      ]
    },
    {
      "cell_type": "markdown",
      "metadata": {
        "id": "jUwx9xDogj8q"
      },
      "source": [
        "## Getting Word Embedding using glove vector"
      ]
    },
    {
      "cell_type": "markdown",
      "metadata": {
        "id": "8dFxgGbau2sq"
      },
      "source": [
        "#### Tokenizationn"
      ]
    },
    {
      "cell_type": "code",
      "metadata": {
        "id": "poHjKX3kv463"
      },
      "source": [
        "token_glove=tf.keras.preprocessing.text.Tokenizer(\n",
        "    num_words=None,\n",
        "    filters='!\"#$%&()*+,_-./:;<=>?@[\\\\]^`{|}~\\t\\n',\n",
        "    lower=True, split=' ', char_level=False, oov_token='ovv',\n",
        "    document_count=0 \n",
        ")"
      ],
      "execution_count": 20,
      "outputs": []
    },
    {
      "cell_type": "code",
      "metadata": {
        "id": "pm70X9MKwBJW"
      },
      "source": [
        "token_glove.fit_on_texts(X_train)"
      ],
      "execution_count": 21,
      "outputs": []
    },
    {
      "cell_type": "code",
      "metadata": {
        "colab": {
          "base_uri": "https://localhost:8080/"
        },
        "id": "Q-jzLObrxUiw",
        "outputId": "371a0628-f8f5-40fe-dbbb-761d82b1b080"
      },
      "source": [
        "# print(encode_docs)\n",
        "vocab_size = len(token_glove.word_index) + 1\n",
        "print(vocab_size)"
      ],
      "execution_count": 22,
      "outputs": [
        {
          "output_type": "stream",
          "name": "stdout",
          "text": [
            "247882\n"
          ]
        }
      ]
    },
    {
      "cell_type": "code",
      "metadata": {
        "id": "y2Y1Mhv4wOmo"
      },
      "source": [
        "encode_text_train=token_glove.texts_to_sequences(X_train)\n",
        "encode_text_cv=token_glove.texts_to_sequences(X_cv)\n",
        "encode_text_test=token_glove.texts_to_sequences(test_csv['merged'])"
      ],
      "execution_count": 23,
      "outputs": []
    },
    {
      "cell_type": "markdown",
      "metadata": {
        "id": "p6Iaa9lAxhCY"
      },
      "source": [
        "#### padding"
      ]
    },
    {
      "cell_type": "code",
      "metadata": {
        "colab": {
          "base_uri": "https://localhost:8080/"
        },
        "id": "6jVETUVXfkOR",
        "outputId": "5ff9093e-b6c0-4469-d75e-5b53dc56c24f"
      },
      "source": [
        "check_lenth=[]\n",
        "for i in X_train:\n",
        "  check_lenth.append(len(i.split())) # spliting i\n",
        "print('95 precentile of the length of words in X_train')\n",
        "check_lenth=np.array(check_lenth)\n",
        "print(np.percentile(check_lenth,95))"
      ],
      "execution_count": 37,
      "outputs": [
        {
          "output_type": "stream",
          "name": "stdout",
          "text": [
            "95 precentile of the length of words in X_train\n",
            "1013.0499999999993\n"
          ]
        }
      ]
    },
    {
      "cell_type": "code",
      "metadata": {
        "id": "klkoTtUdvHl3"
      },
      "source": [
        "max_length=int(1014)  # 95 precentile of the words in X_train.\n",
        "encode_text_train_paded=tf.keras.preprocessing.sequence.pad_sequences(encode_text_train, maxlen=max_length, padding='post')\n",
        "encode_text_cv_paded=tf.keras.preprocessing.sequence.pad_sequences(encode_text_cv, maxlen=max_length, padding='post')\n",
        "encode_text_test_paded=tf.keras.preprocessing.sequence.pad_sequences(encode_text_test, maxlen=max_length, padding='post')\n",
        "\n"
      ],
      "execution_count": 24,
      "outputs": []
    },
    {
      "cell_type": "code",
      "metadata": {
        "colab": {
          "base_uri": "https://localhost:8080/"
        },
        "id": "r6z-VXZNvrdT",
        "outputId": "49309c59-1312-4e96-bc2d-3fe625a1ce68"
      },
      "source": [
        "print(encode_text_train_paded)"
      ],
      "execution_count": 74,
      "outputs": [
        {
          "output_type": "stream",
          "name": "stdout",
          "text": [
            "[[   115     11     50 ...      0      0      0]\n",
            " [  9460  42366     16 ...      0      0      0]\n",
            " [    53   1726   1499 ...      0      0      0]\n",
            " ...\n",
            " [ 65866    471   3513 ...      0      0      0]\n",
            " [247775 247776  13655 ...      0      0      0]\n",
            " [    45   2494    178 ...     24  54786  34194]]\n"
          ]
        }
      ]
    },
    {
      "cell_type": "markdown",
      "metadata": {
        "id": "iZn2LoYe15c5"
      },
      "source": [
        "#### Word vectors"
      ]
    },
    {
      "cell_type": "code",
      "metadata": {
        "colab": {
          "base_uri": "https://localhost:8080/"
        },
        "id": "AirqZza51227",
        "outputId": "459d0e77-677c-4d1c-f93d-265d38277af1"
      },
      "source": [
        "embeddings_index = dict()\n",
        "with open('/content/drive/MyDrive/data/CNN_text_clasification/glove.6B.300d.txt','r',encoding='utf8',errors='ignore') as f:\n",
        " \n",
        "# https://machinelearningmastery.com/use-word-embedding-layers-deep-learning-keras/\n",
        "# https://blog.keras.io/using-pre-trained-word-embeddings-in-a-keras-model.html  \n",
        "  for line in f:\n",
        "    values = line.split()\n",
        "    word = values[0]\n",
        "    coefs = np.asarray(values[1:], dtype='float32')\n",
        "    embeddings_index[word] = coefs\n",
        "  f.close()\n",
        "  print('Loaded %s word vectors.' % len(embeddings_index))\n",
        "  # create a weight matrix for words in training docs\n",
        "  embedding_matrix = np.zeros((vocab_size, 300))\n",
        "  for word, i in token_glove.word_index.items():\n",
        "    embedding_vector = embeddings_index.get(word)\n",
        "    if embedding_vector is not None:\n",
        "      embedding_matrix[i] = embedding_vector\n",
        "  # define model"
      ],
      "execution_count": 26,
      "outputs": [
        {
          "output_type": "stream",
          "name": "stdout",
          "text": [
            "Loaded 400000 word vectors.\n"
          ]
        }
      ]
    },
    {
      "cell_type": "markdown",
      "metadata": {
        "id": "FZecG5tu23YQ"
      },
      "source": [
        "##### one hot encoding of Class label"
      ]
    },
    {
      "cell_type": "code",
      "metadata": {
        "id": "RS-UEKKr2JEp"
      },
      "source": [
        "from sklearn.preprocessing import OneHotEncoder\n",
        "y_train=np.array(y_train).reshape(-1,1)\n",
        "y_cv=np.array(y_cv).reshape(-1,1)\n",
        "enc=OneHotEncoder()\n",
        "enc.fit(y_cv)\n",
        "y_train_ohe=enc.transform(y_train).toarray()\n",
        "y_test_ohe=enc.transform(y_cv).toarray()"
      ],
      "execution_count": 27,
      "outputs": []
    },
    {
      "cell_type": "markdown",
      "metadata": {
        "id": "AhR_U-bc7-zk"
      },
      "source": [
        "### BERT Embeddings"
      ]
    },
    {
      "cell_type": "code",
      "metadata": {
        "id": "fe7FxQwi3MWF"
      },
      "source": [
        " # refrence: applied ai\n",
        " ## Loading the Pretrained Model from tensorflow HUB\n",
        "tf.keras.backend.clear_session()\n",
        "\n",
        "# maximum length of a seq in the data we have, for now i am making it as 55. You can change this\n",
        "max_seq_length = 512\n",
        "\n",
        "#BERT takes 3 inputs\n",
        "\n",
        "#this is input words. Sequence of words represented as integers\n",
        "input_word_ids = tf.keras.layers.Input(shape=(max_seq_length,), dtype=tf.int32, name=\"input_word_ids\")\n",
        "\n",
        "#mask vector if you are padding anything\n",
        "input_mask = tf.keras.layers.Input(shape=(max_seq_length,), dtype=tf.int32, name=\"input_mask\")\n",
        "\n",
        "#segment vectors. If you are giving only one sentence for the classification, total seg vector is 0. \n",
        "#If you are giving two sentenced with [sep] token separated, first seq segment vectors are zeros and \n",
        "#second seq segment vector are 1's\n",
        "segment_ids = tf.keras.layers.Input(shape=(max_seq_length,), dtype=tf.int32, name=\"segment_ids\")\n",
        "\n",
        "#bert layer \n",
        "bert_layer = hub.KerasLayer(\"https://tfhub.dev/tensorflow/bert_en_uncased_L-12_H-768_A-12/1\" , trainable=False)\n",
        "pooled_output, sequence_output = bert_layer([input_word_ids, input_mask, segment_ids])\n",
        "\n",
        "#Bert model\n",
        "#We are using only pooled output not sequence out. \n",
        "#If you want to know about those, please read https://www.kaggle.com/questions-and-answers/86510\n",
        "bert_model = Model(inputs=[input_word_ids, input_mask, segment_ids], outputs=pooled_output)"
      ],
      "execution_count": 28,
      "outputs": []
    },
    {
      "cell_type": "code",
      "metadata": {
        "colab": {
          "base_uri": "https://localhost:8080/"
        },
        "id": "Y-mc4Anp8Fh9",
        "outputId": "4e8af670-b747-484c-bee8-16c7bca62cf1"
      },
      "source": [
        "bert_model.summary()"
      ],
      "execution_count": 93,
      "outputs": [
        {
          "output_type": "stream",
          "name": "stdout",
          "text": [
            "Model: \"model\"\n",
            "__________________________________________________________________________________________________\n",
            " Layer (type)                   Output Shape         Param #     Connected to                     \n",
            "==================================================================================================\n",
            " input_word_ids (InputLayer)    [(None, 512)]        0           []                               \n",
            "                                                                                                  \n",
            " input_mask (InputLayer)        [(None, 512)]        0           []                               \n",
            "                                                                                                  \n",
            " segment_ids (InputLayer)       [(None, 512)]        0           []                               \n",
            "                                                                                                  \n",
            " keras_layer (KerasLayer)       [(None, 768),        109482241   ['input_word_ids[0][0]',         \n",
            "                                 (None, 512, 768)]                'input_mask[0][0]',             \n",
            "                                                                  'segment_ids[0][0]']            \n",
            "                                                                                                  \n",
            "==================================================================================================\n",
            "Total params: 109,482,241\n",
            "Trainable params: 0\n",
            "Non-trainable params: 109,482,241\n",
            "__________________________________________________________________________________________________\n"
          ]
        }
      ]
    },
    {
      "cell_type": "code",
      "metadata": {
        "id": "snhoO82P8j2Q"
      },
      "source": [
        "#getting Vocab file\n",
        "vocab_file = bert_layer.resolved_object.vocab_file.asset_path.numpy()\n",
        "do_lower_case = bert_layer.resolved_object.do_lower_case.numpy()"
      ],
      "execution_count": 29,
      "outputs": []
    },
    {
      "cell_type": "code",
      "metadata": {
        "colab": {
          "base_uri": "https://localhost:8080/"
        },
        "id": "Fk8V_xJX8oXr",
        "outputId": "de6aab6d-fdee-4e62-eb8b-84de4944cfe0"
      },
      "source": [
        "pip install sentencepiece"
      ],
      "execution_count": 30,
      "outputs": [
        {
          "output_type": "stream",
          "name": "stdout",
          "text": [
            "Collecting sentencepiece\n",
            "  Downloading sentencepiece-0.1.96-cp37-cp37m-manylinux_2_17_x86_64.manylinux2014_x86_64.whl (1.2 MB)\n",
            "\u001b[K     |████████████████████████████████| 1.2 MB 4.2 MB/s \n",
            "\u001b[?25hInstalling collected packages: sentencepiece\n",
            "Successfully installed sentencepiece-0.1.96\n"
          ]
        }
      ]
    },
    {
      "cell_type": "code",
      "metadata": {
        "id": "GVwWRphm80Mb"
      },
      "source": [
        "import tokenization\n",
        "tokenizer=tokenization.FullTokenizer(vocab_file,do_lower_case)"
      ],
      "execution_count": 31,
      "outputs": []
    },
    {
      "cell_type": "code",
      "metadata": {
        "id": "6vuxftXc87Ab"
      },
      "source": [
        "from tqdm import tqdm\n",
        "def check_token(text):\n",
        "  tokens=[]\n",
        "  masks=[]\n",
        "  segment=[]\n",
        "  pad_token=[]\n",
        "\n",
        "  for i in tqdm(text):\n",
        "    token=tokenizer.tokenize(i)\n",
        "    # print(len(token))\n",
        "    # print(token)\n",
        "    # print(\"*\"*100)\n",
        "    token=token[:max_seq_length-2]\n",
        "    token=['[CLS]',*token,'[SEP]']\n",
        "    with_padd=token\n",
        "\n",
        "    # print(token)\n",
        "    # print(\"*\"*100)\n",
        "    if len(token)<512:\n",
        "      a=(max_seq_length-len(token))\n",
        "      for j in range(a):\n",
        "        token=[*token,'[PAD]']\n",
        "      # print(token)\n",
        "      # print(\"*\"*100)\n",
        "\n",
        "    mask=np.array([1]*len(with_padd)+[0]*(max_seq_length-len(with_padd)))\n",
        "    masks.append(mask)\n",
        "    # print(mask)\n",
        "    # print(\"*\"*100)\n",
        "    # tokens.append(np.array(token))\n",
        "    pos_encodig=np.array(tokenizer.convert_tokens_to_ids(token))\n",
        "    tokens.append(pos_encodig)\n",
        "    # print(pos_encodig)\n",
        "    seg=np.array([0]*(max_seq_length))\n",
        "    segment.append(seg)\n",
        "    \n",
        "  return np.array(tokens),np.array(masks),np.array(segment)"
      ],
      "execution_count": 32,
      "outputs": []
    },
    {
      "cell_type": "code",
      "metadata": {
        "colab": {
          "base_uri": "https://localhost:8080/"
        },
        "id": "xND1By3G9xmZ",
        "outputId": "ea67dc80-434f-4b75-dc40-27256b317aa3"
      },
      "source": [
        "X_train_tokens, X_train_mask, X_train_segment=check_token(X_train)\n",
        "X_cv_tokens, X_cv_mask, X_cv_segment=check_token(X_cv)\n",
        "X_test_tokens, X_test_mask, X_test_segment=check_token(test_csv['merged'].values)"
      ],
      "execution_count": 33,
      "outputs": [
        {
          "output_type": "stream",
          "name": "stderr",
          "text": [
            "100%|██████████| 12220/12220 [02:24<00:00, 84.39it/s]\n",
            "100%|██████████| 6020/6020 [01:10<00:00, 84.94it/s]\n",
            "100%|██████████| 4573/4573 [00:55<00:00, 82.36it/s]\n"
          ]
        }
      ]
    },
    {
      "cell_type": "code",
      "metadata": {
        "colab": {
          "base_uri": "https://localhost:8080/"
        },
        "id": "zX1y0Xjr-WLN",
        "outputId": "c0a888b3-11de-4aef-b174-3e07bf3aa1c0"
      },
      "source": [
        "X_train_tokens.shape[1], X_train_mask.shape[1], X_train_segment.shape[1]"
      ],
      "execution_count": 34,
      "outputs": [
        {
          "output_type": "execute_result",
          "data": {
            "text/plain": [
              "(512, 512, 512)"
            ]
          },
          "metadata": {},
          "execution_count": 34
        }
      ]
    },
    {
      "cell_type": "markdown",
      "metadata": {
        "id": "PysRLNMuAXWV"
      },
      "source": [
        "#### Getting BERT embeddings"
      ]
    },
    {
      "cell_type": "code",
      "metadata": {
        "colab": {
          "base_uri": "https://localhost:8080/"
        },
        "id": "e28_c3Rl_n4m",
        "outputId": "2e450163-bcb8-424f-a2f7-3667a93d2f18"
      },
      "source": [
        "bert_model.input"
      ],
      "execution_count": 100,
      "outputs": [
        {
          "output_type": "execute_result",
          "data": {
            "text/plain": [
              "[<KerasTensor: shape=(None, 512) dtype=int32 (created by layer 'input_word_ids')>,\n",
              " <KerasTensor: shape=(None, 512) dtype=int32 (created by layer 'input_mask')>,\n",
              " <KerasTensor: shape=(None, 512) dtype=int32 (created by layer 'segment_ids')>]"
            ]
          },
          "metadata": {},
          "execution_count": 100
        }
      ]
    },
    {
      "cell_type": "code",
      "metadata": {
        "colab": {
          "base_uri": "https://localhost:8080/"
        },
        "id": "2gUgqEgQAh-7",
        "outputId": "50d3d90a-3bb2-4f43-babe-eb42cb3e5d9e"
      },
      "source": [
        "bert_model.output"
      ],
      "execution_count": 101,
      "outputs": [
        {
          "output_type": "execute_result",
          "data": {
            "text/plain": [
              "<KerasTensor: shape=(None, 768) dtype=float32 (created by layer 'keras_layer')>"
            ]
          },
          "metadata": {},
          "execution_count": 101
        }
      ]
    },
    {
      "cell_type": "code",
      "metadata": {
        "id": "cIO6XMHIAlbc"
      },
      "source": [
        "# getting the train output, BERT model will give one output so save in\n",
        "# X_train_pooled_output\n",
        "X_train_pooled_output=bert_model.predict([X_train_tokens,X_train_mask,X_train_segment])\n",
        "# getting the cross validation output, BERT model will give one output so save in\n",
        "# X_cv_pooled_output\n",
        "X_cv_pooled_output=bert_model.predict([X_cv_tokens,X_cv_mask,X_cv_segment])\n",
        "# getting the test output, BERT model will give one output so save in\n",
        "# X_test_pooled_output\n",
        "X_test_pooled_output=bert_model.predict([X_test_tokens,X_test_mask,X_test_segment])"
      ],
      "execution_count": 35,
      "outputs": []
    },
    {
      "cell_type": "code",
      "metadata": {
        "colab": {
          "base_uri": "https://localhost:8080/"
        },
        "id": "Vy4PovQgBFff",
        "outputId": "bda88209-bf2f-4a6f-e771-003ef9bd12d1"
      },
      "source": [
        "X_train_pooled_output.shape"
      ],
      "execution_count": 36,
      "outputs": [
        {
          "output_type": "execute_result",
          "data": {
            "text/plain": [
              "(12220, 768)"
            ]
          },
          "metadata": {},
          "execution_count": 36
        }
      ]
    },
    {
      "cell_type": "code",
      "metadata": {
        "id": "wIF6mWOIMDRJ"
      },
      "source": [
        ""
      ],
      "execution_count": null,
      "outputs": []
    }
  ]
}